{
 "cells": [
  {
   "cell_type": "code",
   "execution_count": null,
   "id": "ddae7aaa",
   "metadata": {},
   "outputs": [],
   "source": []
  },
  {
   "cell_type": "code",
   "execution_count": 198,
   "id": "ff6c1e73",
   "metadata": {},
   "outputs": [],
   "source": [
    "import pandas as pd\n",
    "import numpy as np\n",
    "import seaborn as sns\n",
    "import matplotlib.pyplot as plt\n",
    "from sklearn.model_selection import train_test_split\n",
    "from sklearn.preprocessing import MinMaxScaler"
   ]
  },
  {
   "cell_type": "code",
   "execution_count": 199,
   "id": "bd99f8e0",
   "metadata": {},
   "outputs": [],
   "source": [
    "df = pd.read_csv(\"insurance_data.csv\")"
   ]
  },
  {
   "cell_type": "code",
   "execution_count": 200,
   "id": "be1a3148",
   "metadata": {},
   "outputs": [
    {
     "data": {
      "text/html": [
       "<div>\n",
       "<style scoped>\n",
       "    .dataframe tbody tr th:only-of-type {\n",
       "        vertical-align: middle;\n",
       "    }\n",
       "\n",
       "    .dataframe tbody tr th {\n",
       "        vertical-align: top;\n",
       "    }\n",
       "\n",
       "    .dataframe thead th {\n",
       "        text-align: right;\n",
       "    }\n",
       "</style>\n",
       "<table border=\"1\" class=\"dataframe\">\n",
       "  <thead>\n",
       "    <tr style=\"text-align: right;\">\n",
       "      <th></th>\n",
       "      <th>index</th>\n",
       "      <th>PatientID</th>\n",
       "      <th>age</th>\n",
       "      <th>gender</th>\n",
       "      <th>bmi</th>\n",
       "      <th>bloodpressure</th>\n",
       "      <th>diabetic</th>\n",
       "      <th>children</th>\n",
       "      <th>smoker</th>\n",
       "      <th>region</th>\n",
       "      <th>claim</th>\n",
       "    </tr>\n",
       "  </thead>\n",
       "  <tbody>\n",
       "    <tr>\n",
       "      <th>0</th>\n",
       "      <td>0</td>\n",
       "      <td>1</td>\n",
       "      <td>39.0</td>\n",
       "      <td>male</td>\n",
       "      <td>23.2</td>\n",
       "      <td>91</td>\n",
       "      <td>Yes</td>\n",
       "      <td>0</td>\n",
       "      <td>No</td>\n",
       "      <td>southeast</td>\n",
       "      <td>1121.87</td>\n",
       "    </tr>\n",
       "    <tr>\n",
       "      <th>1</th>\n",
       "      <td>1</td>\n",
       "      <td>2</td>\n",
       "      <td>24.0</td>\n",
       "      <td>male</td>\n",
       "      <td>30.1</td>\n",
       "      <td>87</td>\n",
       "      <td>No</td>\n",
       "      <td>0</td>\n",
       "      <td>No</td>\n",
       "      <td>southeast</td>\n",
       "      <td>1131.51</td>\n",
       "    </tr>\n",
       "    <tr>\n",
       "      <th>2</th>\n",
       "      <td>2</td>\n",
       "      <td>3</td>\n",
       "      <td>NaN</td>\n",
       "      <td>male</td>\n",
       "      <td>33.3</td>\n",
       "      <td>82</td>\n",
       "      <td>Yes</td>\n",
       "      <td>0</td>\n",
       "      <td>No</td>\n",
       "      <td>southeast</td>\n",
       "      <td>1135.94</td>\n",
       "    </tr>\n",
       "    <tr>\n",
       "      <th>3</th>\n",
       "      <td>3</td>\n",
       "      <td>4</td>\n",
       "      <td>NaN</td>\n",
       "      <td>male</td>\n",
       "      <td>33.7</td>\n",
       "      <td>80</td>\n",
       "      <td>No</td>\n",
       "      <td>0</td>\n",
       "      <td>No</td>\n",
       "      <td>northwest</td>\n",
       "      <td>1136.40</td>\n",
       "    </tr>\n",
       "    <tr>\n",
       "      <th>4</th>\n",
       "      <td>4</td>\n",
       "      <td>5</td>\n",
       "      <td>NaN</td>\n",
       "      <td>male</td>\n",
       "      <td>34.1</td>\n",
       "      <td>100</td>\n",
       "      <td>No</td>\n",
       "      <td>0</td>\n",
       "      <td>No</td>\n",
       "      <td>northwest</td>\n",
       "      <td>1137.01</td>\n",
       "    </tr>\n",
       "  </tbody>\n",
       "</table>\n",
       "</div>"
      ],
      "text/plain": [
       "   index  PatientID   age gender   bmi  bloodpressure diabetic  children  \\\n",
       "0      0          1  39.0   male  23.2             91      Yes         0   \n",
       "1      1          2  24.0   male  30.1             87       No         0   \n",
       "2      2          3   NaN   male  33.3             82      Yes         0   \n",
       "3      3          4   NaN   male  33.7             80       No         0   \n",
       "4      4          5   NaN   male  34.1            100       No         0   \n",
       "\n",
       "  smoker     region    claim  \n",
       "0     No  southeast  1121.87  \n",
       "1     No  southeast  1131.51  \n",
       "2     No  southeast  1135.94  \n",
       "3     No  northwest  1136.40  \n",
       "4     No  northwest  1137.01  "
      ]
     },
     "execution_count": 200,
     "metadata": {},
     "output_type": "execute_result"
    }
   ],
   "source": [
    "df.head() # by default top 5 rows will reflect"
   ]
  },
  {
   "cell_type": "code",
   "execution_count": 201,
   "id": "149d6f09",
   "metadata": {},
   "outputs": [
    {
     "data": {
      "text/html": [
       "<div>\n",
       "<style scoped>\n",
       "    .dataframe tbody tr th:only-of-type {\n",
       "        vertical-align: middle;\n",
       "    }\n",
       "\n",
       "    .dataframe tbody tr th {\n",
       "        vertical-align: top;\n",
       "    }\n",
       "\n",
       "    .dataframe thead th {\n",
       "        text-align: right;\n",
       "    }\n",
       "</style>\n",
       "<table border=\"1\" class=\"dataframe\">\n",
       "  <thead>\n",
       "    <tr style=\"text-align: right;\">\n",
       "      <th></th>\n",
       "      <th>index</th>\n",
       "      <th>PatientID</th>\n",
       "      <th>age</th>\n",
       "      <th>gender</th>\n",
       "      <th>bmi</th>\n",
       "      <th>bloodpressure</th>\n",
       "      <th>diabetic</th>\n",
       "      <th>children</th>\n",
       "      <th>smoker</th>\n",
       "      <th>region</th>\n",
       "      <th>claim</th>\n",
       "    </tr>\n",
       "  </thead>\n",
       "  <tbody>\n",
       "    <tr>\n",
       "      <th>1335</th>\n",
       "      <td>1335</td>\n",
       "      <td>1336</td>\n",
       "      <td>44.0</td>\n",
       "      <td>female</td>\n",
       "      <td>35.5</td>\n",
       "      <td>88</td>\n",
       "      <td>Yes</td>\n",
       "      <td>0</td>\n",
       "      <td>Yes</td>\n",
       "      <td>northwest</td>\n",
       "      <td>55135.40</td>\n",
       "    </tr>\n",
       "    <tr>\n",
       "      <th>1336</th>\n",
       "      <td>1336</td>\n",
       "      <td>1337</td>\n",
       "      <td>59.0</td>\n",
       "      <td>female</td>\n",
       "      <td>38.1</td>\n",
       "      <td>120</td>\n",
       "      <td>No</td>\n",
       "      <td>1</td>\n",
       "      <td>Yes</td>\n",
       "      <td>northeast</td>\n",
       "      <td>58571.07</td>\n",
       "    </tr>\n",
       "    <tr>\n",
       "      <th>1337</th>\n",
       "      <td>1337</td>\n",
       "      <td>1338</td>\n",
       "      <td>30.0</td>\n",
       "      <td>male</td>\n",
       "      <td>34.5</td>\n",
       "      <td>91</td>\n",
       "      <td>Yes</td>\n",
       "      <td>3</td>\n",
       "      <td>Yes</td>\n",
       "      <td>northwest</td>\n",
       "      <td>60021.40</td>\n",
       "    </tr>\n",
       "    <tr>\n",
       "      <th>1338</th>\n",
       "      <td>1338</td>\n",
       "      <td>1339</td>\n",
       "      <td>37.0</td>\n",
       "      <td>male</td>\n",
       "      <td>30.4</td>\n",
       "      <td>106</td>\n",
       "      <td>No</td>\n",
       "      <td>0</td>\n",
       "      <td>Yes</td>\n",
       "      <td>southeast</td>\n",
       "      <td>62592.87</td>\n",
       "    </tr>\n",
       "    <tr>\n",
       "      <th>1339</th>\n",
       "      <td>1339</td>\n",
       "      <td>1340</td>\n",
       "      <td>30.0</td>\n",
       "      <td>female</td>\n",
       "      <td>47.4</td>\n",
       "      <td>101</td>\n",
       "      <td>No</td>\n",
       "      <td>0</td>\n",
       "      <td>Yes</td>\n",
       "      <td>southeast</td>\n",
       "      <td>63770.43</td>\n",
       "    </tr>\n",
       "  </tbody>\n",
       "</table>\n",
       "</div>"
      ],
      "text/plain": [
       "      index  PatientID   age  gender   bmi  bloodpressure diabetic  children  \\\n",
       "1335   1335       1336  44.0  female  35.5             88      Yes         0   \n",
       "1336   1336       1337  59.0  female  38.1            120       No         1   \n",
       "1337   1337       1338  30.0    male  34.5             91      Yes         3   \n",
       "1338   1338       1339  37.0    male  30.4            106       No         0   \n",
       "1339   1339       1340  30.0  female  47.4            101       No         0   \n",
       "\n",
       "     smoker     region     claim  \n",
       "1335    Yes  northwest  55135.40  \n",
       "1336    Yes  northeast  58571.07  \n",
       "1337    Yes  northwest  60021.40  \n",
       "1338    Yes  southeast  62592.87  \n",
       "1339    Yes  southeast  63770.43  "
      ]
     },
     "execution_count": 201,
     "metadata": {},
     "output_type": "execute_result"
    }
   ],
   "source": [
    "df.tail() # by default bottom 5 rows will reflect"
   ]
  },
  {
   "cell_type": "code",
   "execution_count": 202,
   "id": "4befd829",
   "metadata": {},
   "outputs": [
    {
     "data": {
      "text/plain": [
       "(1340, 11)"
      ]
     },
     "execution_count": 202,
     "metadata": {},
     "output_type": "execute_result"
    }
   ],
   "source": [
    "df.shape"
   ]
  },
  {
   "cell_type": "code",
   "execution_count": 203,
   "id": "1a98374a",
   "metadata": {},
   "outputs": [],
   "source": [
    "# our dataset has 1340 rows and 11 columns"
   ]
  },
  {
   "cell_type": "code",
   "execution_count": 204,
   "id": "3bd187fb",
   "metadata": {},
   "outputs": [
    {
     "data": {
      "text/plain": [
       "index              int64\n",
       "PatientID          int64\n",
       "age              float64\n",
       "gender            object\n",
       "bmi              float64\n",
       "bloodpressure      int64\n",
       "diabetic          object\n",
       "children           int64\n",
       "smoker            object\n",
       "region            object\n",
       "claim            float64\n",
       "dtype: object"
      ]
     },
     "execution_count": 204,
     "metadata": {},
     "output_type": "execute_result"
    }
   ],
   "source": [
    "df.dtypes"
   ]
  },
  {
   "cell_type": "code",
   "execution_count": 205,
   "id": "65777114",
   "metadata": {},
   "outputs": [],
   "source": [
    "# Our data hot both numerical and categorical columns\n",
    "# label column is claim"
   ]
  },
  {
   "cell_type": "code",
   "execution_count": 206,
   "id": "253b12cf",
   "metadata": {},
   "outputs": [
    {
     "data": {
      "text/html": [
       "<div>\n",
       "<style scoped>\n",
       "    .dataframe tbody tr th:only-of-type {\n",
       "        vertical-align: middle;\n",
       "    }\n",
       "\n",
       "    .dataframe tbody tr th {\n",
       "        vertical-align: top;\n",
       "    }\n",
       "\n",
       "    .dataframe thead th {\n",
       "        text-align: right;\n",
       "    }\n",
       "</style>\n",
       "<table border=\"1\" class=\"dataframe\">\n",
       "  <thead>\n",
       "    <tr style=\"text-align: right;\">\n",
       "      <th></th>\n",
       "      <th>index</th>\n",
       "      <th>PatientID</th>\n",
       "      <th>age</th>\n",
       "      <th>bmi</th>\n",
       "      <th>bloodpressure</th>\n",
       "      <th>children</th>\n",
       "      <th>claim</th>\n",
       "    </tr>\n",
       "  </thead>\n",
       "  <tbody>\n",
       "    <tr>\n",
       "      <th>0</th>\n",
       "      <td>0</td>\n",
       "      <td>1</td>\n",
       "      <td>39.0</td>\n",
       "      <td>23.2</td>\n",
       "      <td>91</td>\n",
       "      <td>0</td>\n",
       "      <td>1121.87</td>\n",
       "    </tr>\n",
       "    <tr>\n",
       "      <th>1</th>\n",
       "      <td>1</td>\n",
       "      <td>2</td>\n",
       "      <td>24.0</td>\n",
       "      <td>30.1</td>\n",
       "      <td>87</td>\n",
       "      <td>0</td>\n",
       "      <td>1131.51</td>\n",
       "    </tr>\n",
       "    <tr>\n",
       "      <th>2</th>\n",
       "      <td>2</td>\n",
       "      <td>3</td>\n",
       "      <td>NaN</td>\n",
       "      <td>33.3</td>\n",
       "      <td>82</td>\n",
       "      <td>0</td>\n",
       "      <td>1135.94</td>\n",
       "    </tr>\n",
       "    <tr>\n",
       "      <th>3</th>\n",
       "      <td>3</td>\n",
       "      <td>4</td>\n",
       "      <td>NaN</td>\n",
       "      <td>33.7</td>\n",
       "      <td>80</td>\n",
       "      <td>0</td>\n",
       "      <td>1136.40</td>\n",
       "    </tr>\n",
       "    <tr>\n",
       "      <th>4</th>\n",
       "      <td>4</td>\n",
       "      <td>5</td>\n",
       "      <td>NaN</td>\n",
       "      <td>34.1</td>\n",
       "      <td>100</td>\n",
       "      <td>0</td>\n",
       "      <td>1137.01</td>\n",
       "    </tr>\n",
       "    <tr>\n",
       "      <th>...</th>\n",
       "      <td>...</td>\n",
       "      <td>...</td>\n",
       "      <td>...</td>\n",
       "      <td>...</td>\n",
       "      <td>...</td>\n",
       "      <td>...</td>\n",
       "      <td>...</td>\n",
       "    </tr>\n",
       "    <tr>\n",
       "      <th>1335</th>\n",
       "      <td>1335</td>\n",
       "      <td>1336</td>\n",
       "      <td>44.0</td>\n",
       "      <td>35.5</td>\n",
       "      <td>88</td>\n",
       "      <td>0</td>\n",
       "      <td>55135.40</td>\n",
       "    </tr>\n",
       "    <tr>\n",
       "      <th>1336</th>\n",
       "      <td>1336</td>\n",
       "      <td>1337</td>\n",
       "      <td>59.0</td>\n",
       "      <td>38.1</td>\n",
       "      <td>120</td>\n",
       "      <td>1</td>\n",
       "      <td>58571.07</td>\n",
       "    </tr>\n",
       "    <tr>\n",
       "      <th>1337</th>\n",
       "      <td>1337</td>\n",
       "      <td>1338</td>\n",
       "      <td>30.0</td>\n",
       "      <td>34.5</td>\n",
       "      <td>91</td>\n",
       "      <td>3</td>\n",
       "      <td>60021.40</td>\n",
       "    </tr>\n",
       "    <tr>\n",
       "      <th>1338</th>\n",
       "      <td>1338</td>\n",
       "      <td>1339</td>\n",
       "      <td>37.0</td>\n",
       "      <td>30.4</td>\n",
       "      <td>106</td>\n",
       "      <td>0</td>\n",
       "      <td>62592.87</td>\n",
       "    </tr>\n",
       "    <tr>\n",
       "      <th>1339</th>\n",
       "      <td>1339</td>\n",
       "      <td>1340</td>\n",
       "      <td>30.0</td>\n",
       "      <td>47.4</td>\n",
       "      <td>101</td>\n",
       "      <td>0</td>\n",
       "      <td>63770.43</td>\n",
       "    </tr>\n",
       "  </tbody>\n",
       "</table>\n",
       "<p>1340 rows × 7 columns</p>\n",
       "</div>"
      ],
      "text/plain": [
       "      index  PatientID   age   bmi  bloodpressure  children     claim\n",
       "0         0          1  39.0  23.2             91         0   1121.87\n",
       "1         1          2  24.0  30.1             87         0   1131.51\n",
       "2         2          3   NaN  33.3             82         0   1135.94\n",
       "3         3          4   NaN  33.7             80         0   1136.40\n",
       "4         4          5   NaN  34.1            100         0   1137.01\n",
       "...     ...        ...   ...   ...            ...       ...       ...\n",
       "1335   1335       1336  44.0  35.5             88         0  55135.40\n",
       "1336   1336       1337  59.0  38.1            120         1  58571.07\n",
       "1337   1337       1338  30.0  34.5             91         3  60021.40\n",
       "1338   1338       1339  37.0  30.4            106         0  62592.87\n",
       "1339   1339       1340  30.0  47.4            101         0  63770.43\n",
       "\n",
       "[1340 rows x 7 columns]"
      ]
     },
     "execution_count": 206,
     "metadata": {},
     "output_type": "execute_result"
    }
   ],
   "source": [
    "df.select_dtypes(include='number')"
   ]
  },
  {
   "cell_type": "code",
   "execution_count": 207,
   "id": "64134b2d",
   "metadata": {},
   "outputs": [],
   "source": [
    "# Displays all numerical columns"
   ]
  },
  {
   "cell_type": "code",
   "execution_count": 208,
   "id": "46296e59",
   "metadata": {},
   "outputs": [
    {
     "data": {
      "text/html": [
       "<div>\n",
       "<style scoped>\n",
       "    .dataframe tbody tr th:only-of-type {\n",
       "        vertical-align: middle;\n",
       "    }\n",
       "\n",
       "    .dataframe tbody tr th {\n",
       "        vertical-align: top;\n",
       "    }\n",
       "\n",
       "    .dataframe thead th {\n",
       "        text-align: right;\n",
       "    }\n",
       "</style>\n",
       "<table border=\"1\" class=\"dataframe\">\n",
       "  <thead>\n",
       "    <tr style=\"text-align: right;\">\n",
       "      <th></th>\n",
       "      <th>gender</th>\n",
       "      <th>diabetic</th>\n",
       "      <th>smoker</th>\n",
       "      <th>region</th>\n",
       "    </tr>\n",
       "  </thead>\n",
       "  <tbody>\n",
       "    <tr>\n",
       "      <th>0</th>\n",
       "      <td>male</td>\n",
       "      <td>Yes</td>\n",
       "      <td>No</td>\n",
       "      <td>southeast</td>\n",
       "    </tr>\n",
       "    <tr>\n",
       "      <th>1</th>\n",
       "      <td>male</td>\n",
       "      <td>No</td>\n",
       "      <td>No</td>\n",
       "      <td>southeast</td>\n",
       "    </tr>\n",
       "    <tr>\n",
       "      <th>2</th>\n",
       "      <td>male</td>\n",
       "      <td>Yes</td>\n",
       "      <td>No</td>\n",
       "      <td>southeast</td>\n",
       "    </tr>\n",
       "    <tr>\n",
       "      <th>3</th>\n",
       "      <td>male</td>\n",
       "      <td>No</td>\n",
       "      <td>No</td>\n",
       "      <td>northwest</td>\n",
       "    </tr>\n",
       "    <tr>\n",
       "      <th>4</th>\n",
       "      <td>male</td>\n",
       "      <td>No</td>\n",
       "      <td>No</td>\n",
       "      <td>northwest</td>\n",
       "    </tr>\n",
       "    <tr>\n",
       "      <th>...</th>\n",
       "      <td>...</td>\n",
       "      <td>...</td>\n",
       "      <td>...</td>\n",
       "      <td>...</td>\n",
       "    </tr>\n",
       "    <tr>\n",
       "      <th>1335</th>\n",
       "      <td>female</td>\n",
       "      <td>Yes</td>\n",
       "      <td>Yes</td>\n",
       "      <td>northwest</td>\n",
       "    </tr>\n",
       "    <tr>\n",
       "      <th>1336</th>\n",
       "      <td>female</td>\n",
       "      <td>No</td>\n",
       "      <td>Yes</td>\n",
       "      <td>northeast</td>\n",
       "    </tr>\n",
       "    <tr>\n",
       "      <th>1337</th>\n",
       "      <td>male</td>\n",
       "      <td>Yes</td>\n",
       "      <td>Yes</td>\n",
       "      <td>northwest</td>\n",
       "    </tr>\n",
       "    <tr>\n",
       "      <th>1338</th>\n",
       "      <td>male</td>\n",
       "      <td>No</td>\n",
       "      <td>Yes</td>\n",
       "      <td>southeast</td>\n",
       "    </tr>\n",
       "    <tr>\n",
       "      <th>1339</th>\n",
       "      <td>female</td>\n",
       "      <td>No</td>\n",
       "      <td>Yes</td>\n",
       "      <td>southeast</td>\n",
       "    </tr>\n",
       "  </tbody>\n",
       "</table>\n",
       "<p>1340 rows × 4 columns</p>\n",
       "</div>"
      ],
      "text/plain": [
       "      gender diabetic smoker     region\n",
       "0       male      Yes     No  southeast\n",
       "1       male       No     No  southeast\n",
       "2       male      Yes     No  southeast\n",
       "3       male       No     No  northwest\n",
       "4       male       No     No  northwest\n",
       "...      ...      ...    ...        ...\n",
       "1335  female      Yes    Yes  northwest\n",
       "1336  female       No    Yes  northeast\n",
       "1337    male      Yes    Yes  northwest\n",
       "1338    male       No    Yes  southeast\n",
       "1339  female       No    Yes  southeast\n",
       "\n",
       "[1340 rows x 4 columns]"
      ]
     },
     "execution_count": 208,
     "metadata": {},
     "output_type": "execute_result"
    }
   ],
   "source": [
    "df.select_dtypes(include='object')"
   ]
  },
  {
   "cell_type": "code",
   "execution_count": 209,
   "id": "63f58e34",
   "metadata": {},
   "outputs": [],
   "source": [
    "# Displays all categorical columns"
   ]
  },
  {
   "cell_type": "markdown",
   "id": "bd88e971",
   "metadata": {},
   "source": [
    "### measures of central tendency"
   ]
  },
  {
   "cell_type": "code",
   "execution_count": 210,
   "id": "5275af37",
   "metadata": {},
   "outputs": [
    {
     "data": {
      "text/html": [
       "<div>\n",
       "<style scoped>\n",
       "    .dataframe tbody tr th:only-of-type {\n",
       "        vertical-align: middle;\n",
       "    }\n",
       "\n",
       "    .dataframe tbody tr th {\n",
       "        vertical-align: top;\n",
       "    }\n",
       "\n",
       "    .dataframe thead th {\n",
       "        text-align: right;\n",
       "    }\n",
       "</style>\n",
       "<table border=\"1\" class=\"dataframe\">\n",
       "  <thead>\n",
       "    <tr style=\"text-align: right;\">\n",
       "      <th></th>\n",
       "      <th>index</th>\n",
       "      <th>PatientID</th>\n",
       "      <th>age</th>\n",
       "      <th>bmi</th>\n",
       "      <th>bloodpressure</th>\n",
       "      <th>children</th>\n",
       "      <th>claim</th>\n",
       "    </tr>\n",
       "  </thead>\n",
       "  <tbody>\n",
       "    <tr>\n",
       "      <th>count</th>\n",
       "      <td>1340.000000</td>\n",
       "      <td>1340.000000</td>\n",
       "      <td>1335.000000</td>\n",
       "      <td>1340.000000</td>\n",
       "      <td>1340.000000</td>\n",
       "      <td>1340.000000</td>\n",
       "      <td>1340.000000</td>\n",
       "    </tr>\n",
       "    <tr>\n",
       "      <th>mean</th>\n",
       "      <td>669.500000</td>\n",
       "      <td>670.500000</td>\n",
       "      <td>38.078652</td>\n",
       "      <td>30.668955</td>\n",
       "      <td>94.157463</td>\n",
       "      <td>1.093284</td>\n",
       "      <td>13252.745642</td>\n",
       "    </tr>\n",
       "    <tr>\n",
       "      <th>std</th>\n",
       "      <td>386.968991</td>\n",
       "      <td>386.968991</td>\n",
       "      <td>11.102924</td>\n",
       "      <td>6.106735</td>\n",
       "      <td>11.434712</td>\n",
       "      <td>1.205334</td>\n",
       "      <td>12109.609288</td>\n",
       "    </tr>\n",
       "    <tr>\n",
       "      <th>min</th>\n",
       "      <td>0.000000</td>\n",
       "      <td>1.000000</td>\n",
       "      <td>18.000000</td>\n",
       "      <td>16.000000</td>\n",
       "      <td>80.000000</td>\n",
       "      <td>0.000000</td>\n",
       "      <td>1121.870000</td>\n",
       "    </tr>\n",
       "    <tr>\n",
       "      <th>25%</th>\n",
       "      <td>334.750000</td>\n",
       "      <td>335.750000</td>\n",
       "      <td>29.000000</td>\n",
       "      <td>26.275000</td>\n",
       "      <td>86.000000</td>\n",
       "      <td>0.000000</td>\n",
       "      <td>4719.685000</td>\n",
       "    </tr>\n",
       "    <tr>\n",
       "      <th>50%</th>\n",
       "      <td>669.500000</td>\n",
       "      <td>670.500000</td>\n",
       "      <td>38.000000</td>\n",
       "      <td>30.400000</td>\n",
       "      <td>92.000000</td>\n",
       "      <td>1.000000</td>\n",
       "      <td>9369.615000</td>\n",
       "    </tr>\n",
       "    <tr>\n",
       "      <th>75%</th>\n",
       "      <td>1004.250000</td>\n",
       "      <td>1005.250000</td>\n",
       "      <td>47.000000</td>\n",
       "      <td>34.700000</td>\n",
       "      <td>99.000000</td>\n",
       "      <td>2.000000</td>\n",
       "      <td>16604.305000</td>\n",
       "    </tr>\n",
       "    <tr>\n",
       "      <th>max</th>\n",
       "      <td>1339.000000</td>\n",
       "      <td>1340.000000</td>\n",
       "      <td>60.000000</td>\n",
       "      <td>53.100000</td>\n",
       "      <td>140.000000</td>\n",
       "      <td>5.000000</td>\n",
       "      <td>63770.430000</td>\n",
       "    </tr>\n",
       "  </tbody>\n",
       "</table>\n",
       "</div>"
      ],
      "text/plain": [
       "             index    PatientID          age          bmi  bloodpressure  \\\n",
       "count  1340.000000  1340.000000  1335.000000  1340.000000    1340.000000   \n",
       "mean    669.500000   670.500000    38.078652    30.668955      94.157463   \n",
       "std     386.968991   386.968991    11.102924     6.106735      11.434712   \n",
       "min       0.000000     1.000000    18.000000    16.000000      80.000000   \n",
       "25%     334.750000   335.750000    29.000000    26.275000      86.000000   \n",
       "50%     669.500000   670.500000    38.000000    30.400000      92.000000   \n",
       "75%    1004.250000  1005.250000    47.000000    34.700000      99.000000   \n",
       "max    1339.000000  1340.000000    60.000000    53.100000     140.000000   \n",
       "\n",
       "          children         claim  \n",
       "count  1340.000000   1340.000000  \n",
       "mean      1.093284  13252.745642  \n",
       "std       1.205334  12109.609288  \n",
       "min       0.000000   1121.870000  \n",
       "25%       0.000000   4719.685000  \n",
       "50%       1.000000   9369.615000  \n",
       "75%       2.000000  16604.305000  \n",
       "max       5.000000  63770.430000  "
      ]
     },
     "execution_count": 210,
     "metadata": {},
     "output_type": "execute_result"
    }
   ],
   "source": [
    "# summary statistics of numeric columns\n",
    "df.describe(include='number')"
   ]
  },
  {
   "cell_type": "code",
   "execution_count": 211,
   "id": "3289fb49",
   "metadata": {},
   "outputs": [],
   "source": [
    "# All the columns has 1340 rows however age has 5 missing rows \n",
    "# we see that for age column mean is 38.07, standard deviation is 11.10, 1st quartile is 29, median is 29 and 3rd quartile is 47\n",
    "# Claim column has a wide range might have outliers"
   ]
  },
  {
   "cell_type": "code",
   "execution_count": 212,
   "id": "69c331bc",
   "metadata": {},
   "outputs": [
    {
     "data": {
      "text/html": [
       "<div>\n",
       "<style scoped>\n",
       "    .dataframe tbody tr th:only-of-type {\n",
       "        vertical-align: middle;\n",
       "    }\n",
       "\n",
       "    .dataframe tbody tr th {\n",
       "        vertical-align: top;\n",
       "    }\n",
       "\n",
       "    .dataframe thead th {\n",
       "        text-align: right;\n",
       "    }\n",
       "</style>\n",
       "<table border=\"1\" class=\"dataframe\">\n",
       "  <thead>\n",
       "    <tr style=\"text-align: right;\">\n",
       "      <th></th>\n",
       "      <th>gender</th>\n",
       "      <th>diabetic</th>\n",
       "      <th>smoker</th>\n",
       "      <th>region</th>\n",
       "    </tr>\n",
       "  </thead>\n",
       "  <tbody>\n",
       "    <tr>\n",
       "      <th>count</th>\n",
       "      <td>1340</td>\n",
       "      <td>1340</td>\n",
       "      <td>1340</td>\n",
       "      <td>1337</td>\n",
       "    </tr>\n",
       "    <tr>\n",
       "      <th>unique</th>\n",
       "      <td>2</td>\n",
       "      <td>2</td>\n",
       "      <td>2</td>\n",
       "      <td>4</td>\n",
       "    </tr>\n",
       "    <tr>\n",
       "      <th>top</th>\n",
       "      <td>male</td>\n",
       "      <td>No</td>\n",
       "      <td>No</td>\n",
       "      <td>southeast</td>\n",
       "    </tr>\n",
       "    <tr>\n",
       "      <th>freq</th>\n",
       "      <td>678</td>\n",
       "      <td>698</td>\n",
       "      <td>1066</td>\n",
       "      <td>443</td>\n",
       "    </tr>\n",
       "  </tbody>\n",
       "</table>\n",
       "</div>"
      ],
      "text/plain": [
       "       gender diabetic smoker     region\n",
       "count    1340     1340   1340       1337\n",
       "unique      2        2      2          4\n",
       "top      male       No     No  southeast\n",
       "freq      678      698   1066        443"
      ]
     },
     "execution_count": 212,
     "metadata": {},
     "output_type": "execute_result"
    }
   ],
   "source": [
    "# summary statistics of numeric columns\n",
    "df.describe(include='object')"
   ]
  },
  {
   "cell_type": "code",
   "execution_count": 213,
   "id": "cceaabae",
   "metadata": {},
   "outputs": [],
   "source": [
    "# We see that most frequent gender is male(678) and region is southeast\n",
    "# Number of people who donot have diabetes(698) are less than that of those who have diabetes\n",
    "# There are more non smokers(1066) compared to that of smokers"
   ]
  },
  {
   "cell_type": "code",
   "execution_count": 214,
   "id": "1ae25136",
   "metadata": {},
   "outputs": [
    {
     "name": "stdout",
     "output_type": "stream",
     "text": [
      "Mean BMI: 30.668955223880598\n",
      "Median BMI: 30.4\n",
      "Mode BMI: 27.6\n"
     ]
    }
   ],
   "source": [
    "# Calculate mean, median, and mode of a specific column\n",
    "mean_bmi = df[\"bmi\"].mean()\n",
    "median_bmi = df[\"bmi\"].median()\n",
    "mode_bmi = df[\"bmi\"].mode().values[0]\n",
    "\n",
    "print(\"Mean BMI:\", mean_bmi)\n",
    "print(\"Median BMI:\", median_bmi)\n",
    "print(\"Mode BMI:\", mode_bmi)"
   ]
  },
  {
   "cell_type": "code",
   "execution_count": 215,
   "id": "86ae62df",
   "metadata": {},
   "outputs": [],
   "source": [
    "# From above claculation we see that mean, median and mode is 30.66, 30.4 and 27.6 respectively"
   ]
  },
  {
   "cell_type": "code",
   "execution_count": 216,
   "id": "85a5a204",
   "metadata": {},
   "outputs": [
    {
     "data": {
      "text/plain": [
       "male      678\n",
       "female    662\n",
       "Name: gender, dtype: int64"
      ]
     },
     "execution_count": 216,
     "metadata": {},
     "output_type": "execute_result"
    }
   ],
   "source": [
    "# check counts of individual column, say gender\n",
    "df.gender.value_counts()"
   ]
  },
  {
   "cell_type": "code",
   "execution_count": 217,
   "id": "2661fc84",
   "metadata": {},
   "outputs": [],
   "source": [
    "# There are 678 males and 662 females"
   ]
  },
  {
   "cell_type": "markdown",
   "id": "aa12c825",
   "metadata": {},
   "source": [
    "### measures of dispersion"
   ]
  },
  {
   "cell_type": "code",
   "execution_count": 218,
   "id": "85d78d1a",
   "metadata": {},
   "outputs": [
    {
     "data": {
      "text/plain": [
       "(60.0, 18.0)"
      ]
     },
     "execution_count": 218,
     "metadata": {},
     "output_type": "execute_result"
    }
   ],
   "source": [
    "df.age.max(), df.age.min()"
   ]
  },
  {
   "cell_type": "code",
   "execution_count": 219,
   "id": "696f88ff",
   "metadata": {},
   "outputs": [],
   "source": [
    "# max age is 60 and minimum is 18, same is observed in summary statistics"
   ]
  },
  {
   "cell_type": "code",
   "execution_count": 220,
   "id": "247cf50d",
   "metadata": {},
   "outputs": [
    {
     "data": {
      "text/plain": [
       "42.0"
      ]
     },
     "execution_count": 220,
     "metadata": {},
     "output_type": "execute_result"
    }
   ],
   "source": [
    "# to find range of age\n",
    "df.age.max()- df.age.min()"
   ]
  },
  {
   "cell_type": "code",
   "execution_count": 221,
   "id": "fa570ba8",
   "metadata": {},
   "outputs": [],
   "source": [
    "# Range is 42"
   ]
  },
  {
   "cell_type": "code",
   "execution_count": 222,
   "id": "e2dff4d4",
   "metadata": {},
   "outputs": [],
   "source": [
    "df_num = df.select_dtypes(include='number')"
   ]
  },
  {
   "cell_type": "code",
   "execution_count": 223,
   "id": "070442dc",
   "metadata": {},
   "outputs": [
    {
     "data": {
      "text/plain": [
       "index             1339.00\n",
       "PatientID         1339.00\n",
       "age                 42.00\n",
       "bmi                 37.10\n",
       "bloodpressure       60.00\n",
       "children             5.00\n",
       "claim            62648.56\n",
       "dtype: float64"
      ]
     },
     "execution_count": 223,
     "metadata": {},
     "output_type": "execute_result"
    }
   ],
   "source": [
    "# Finding range for all numerical columns together\n",
    "\n",
    "df_num.max() - df_num.min()"
   ]
  },
  {
   "cell_type": "code",
   "execution_count": 224,
   "id": "d83bdb93",
   "metadata": {},
   "outputs": [
    {
     "data": {
      "text/plain": [
       "index              386.968991\n",
       "PatientID          386.968991\n",
       "age                 11.102924\n",
       "bmi                  6.106735\n",
       "bloodpressure       11.434712\n",
       "children             1.205334\n",
       "claim            12109.609288\n",
       "dtype: float64"
      ]
     },
     "execution_count": 224,
     "metadata": {},
     "output_type": "execute_result"
    }
   ],
   "source": [
    "# to find standard deviation of all numerical columns\n",
    "\n",
    "df_num.std()"
   ]
  },
  {
   "cell_type": "code",
   "execution_count": 225,
   "id": "cf3527d4",
   "metadata": {},
   "outputs": [],
   "source": [
    "# The std deviation of claim is very high, it might have outliers"
   ]
  },
  {
   "cell_type": "markdown",
   "id": "c15fb8f0",
   "metadata": {},
   "source": [
    "### Measures of Location"
   ]
  },
  {
   "cell_type": "code",
   "execution_count": 226,
   "id": "4491fb83",
   "metadata": {},
   "outputs": [
    {
     "data": {
      "text/plain": [
       "(92.0, 92.0)"
      ]
     },
     "execution_count": 226,
     "metadata": {},
     "output_type": "execute_result"
    }
   ],
   "source": [
    "# to check 2nd quartile or median for bloodpressure\n",
    "np.quantile(df.bloodpressure,0.5), df.bloodpressure.median()"
   ]
  },
  {
   "cell_type": "code",
   "execution_count": 227,
   "id": "416c0954",
   "metadata": {},
   "outputs": [
    {
     "data": {
      "text/plain": [
       "(86.0, 92.0, 99.0)"
      ]
     },
     "execution_count": 227,
     "metadata": {},
     "output_type": "execute_result"
    }
   ],
   "source": [
    "np.quantile(df.bloodpressure,0.25), np.quantile(df.bloodpressure,0.5), np.quantile(df.bloodpressure,0.75)"
   ]
  },
  {
   "cell_type": "code",
   "execution_count": 228,
   "id": "0414d05e",
   "metadata": {},
   "outputs": [
    {
     "name": "stdout",
     "output_type": "stream",
     "text": [
      "25th Percentile of BMI: 26.275\n",
      "Median (50th Percentile) of BMI: 30.4\n",
      "75th Percentile of BMI: 34.7\n"
     ]
    }
   ],
   "source": [
    "# Calculate the 25th, 50th (median), and 75th percentiles of a specific column\n",
    "percentiles = np.percentile(df[\"bmi\"], [25, 50, 75])\n",
    "\n",
    "print(\"25th Percentile of BMI:\", percentiles[0])\n",
    "print(\"Median (50th Percentile) of BMI:\", percentiles[1])\n",
    "print(\"75th Percentile of BMI:\", percentiles[2])"
   ]
  },
  {
   "cell_type": "code",
   "execution_count": 229,
   "id": "77535ed2",
   "metadata": {
    "scrolled": false
   },
   "outputs": [
    {
     "name": "stdout",
     "output_type": "stream",
     "text": [
      "first quartile: 26.275\n",
      "third quartile: 34.7\n",
      "IQR: 8.425000000000004\n",
      "median or Q2: 30.4\n"
     ]
    }
   ],
   "source": [
    "# Calculate any quantile in a column. this can be used to get the Q1, Q2, Q3, deciles or any percentiles also.\n",
    "\n",
    "Q1_BMI = np.quantile(df[\"bmi\"],0.25)\n",
    "median_BMI = np.quantile(df[\"bmi\"],0.5)\n",
    "Q3_BMI = np.quantile(df[\"bmi\"],0.75)\n",
    "\n",
    "IQR_BMI = Q3_BMI - Q1_BMI\n",
    "\n",
    "print(\"first quartile:\", Q1_BMI)\n",
    "print(\"third quartile:\", Q3_BMI)\n",
    "print(\"IQR:\", IQR_BMI)\n",
    "print(\"median or Q2:\", median_BMI)"
   ]
  },
  {
   "cell_type": "code",
   "execution_count": 343,
   "id": "553b9556",
   "metadata": {
    "scrolled": true
   },
   "outputs": [
    {
     "data": {
      "text/html": [
       "<div>\n",
       "<style scoped>\n",
       "    .dataframe tbody tr th:only-of-type {\n",
       "        vertical-align: middle;\n",
       "    }\n",
       "\n",
       "    .dataframe tbody tr th {\n",
       "        vertical-align: top;\n",
       "    }\n",
       "\n",
       "    .dataframe thead th {\n",
       "        text-align: right;\n",
       "    }\n",
       "</style>\n",
       "<table border=\"1\" class=\"dataframe\">\n",
       "  <thead>\n",
       "    <tr style=\"text-align: right;\">\n",
       "      <th>region</th>\n",
       "      <th>northeast</th>\n",
       "      <th>northwest</th>\n",
       "      <th>southeast</th>\n",
       "      <th>southwest</th>\n",
       "    </tr>\n",
       "    <tr>\n",
       "      <th>gender</th>\n",
       "      <th></th>\n",
       "      <th></th>\n",
       "      <th></th>\n",
       "      <th></th>\n",
       "    </tr>\n",
       "  </thead>\n",
       "  <tbody>\n",
       "    <tr>\n",
       "      <th>female</th>\n",
       "      <td>13555.096061</td>\n",
       "      <td>10474.668497</td>\n",
       "      <td>8533.602020</td>\n",
       "      <td>8387.077347</td>\n",
       "    </tr>\n",
       "    <tr>\n",
       "      <th>male</th>\n",
       "      <td>12444.626392</td>\n",
       "      <td>8864.110180</td>\n",
       "      <td>8794.055706</td>\n",
       "      <td>10039.865573</td>\n",
       "    </tr>\n",
       "  </tbody>\n",
       "</table>\n",
       "</div>"
      ],
      "text/plain": [
       "region     northeast     northwest    southeast     southwest\n",
       "gender                                                       \n",
       "female  13555.096061  10474.668497  8533.602020   8387.077347\n",
       "male    12444.626392   8864.110180  8794.055706  10039.865573"
      ]
     },
     "execution_count": 343,
     "metadata": {},
     "output_type": "execute_result"
    }
   ],
   "source": [
    "pd.pivot_table(data=df,values='claim',index='gender',columns='region',aggfunc='mean')\n"
   ]
  },
  {
   "cell_type": "code",
   "execution_count": 344,
   "id": "ab570fa5",
   "metadata": {
    "scrolled": true
   },
   "outputs": [
    {
     "data": {
      "text/html": [
       "<div>\n",
       "<style scoped>\n",
       "    .dataframe tbody tr th:only-of-type {\n",
       "        vertical-align: middle;\n",
       "    }\n",
       "\n",
       "    .dataframe tbody tr th {\n",
       "        vertical-align: top;\n",
       "    }\n",
       "\n",
       "    .dataframe thead th {\n",
       "        text-align: right;\n",
       "    }\n",
       "</style>\n",
       "<table border=\"1\" class=\"dataframe\">\n",
       "  <thead>\n",
       "    <tr style=\"text-align: right;\">\n",
       "      <th>region</th>\n",
       "      <th>northeast</th>\n",
       "      <th>northwest</th>\n",
       "      <th>southeast</th>\n",
       "      <th>southwest</th>\n",
       "    </tr>\n",
       "    <tr>\n",
       "      <th>smoker</th>\n",
       "      <th></th>\n",
       "      <th></th>\n",
       "      <th></th>\n",
       "      <th></th>\n",
       "    </tr>\n",
       "  </thead>\n",
       "  <tbody>\n",
       "    <tr>\n",
       "      <th>No</th>\n",
       "      <td>159</td>\n",
       "      <td>283</td>\n",
       "      <td>347</td>\n",
       "      <td>253</td>\n",
       "    </tr>\n",
       "    <tr>\n",
       "      <th>Yes</th>\n",
       "      <td>37</td>\n",
       "      <td>37</td>\n",
       "      <td>33</td>\n",
       "      <td>25</td>\n",
       "    </tr>\n",
       "  </tbody>\n",
       "</table>\n",
       "</div>"
      ],
      "text/plain": [
       "region  northeast  northwest  southeast  southwest\n",
       "smoker                                            \n",
       "No            159        283        347        253\n",
       "Yes            37         37         33         25"
      ]
     },
     "execution_count": 344,
     "metadata": {},
     "output_type": "execute_result"
    }
   ],
   "source": [
    "pd.crosstab(index=df['smoker'],columns=df['region'])"
   ]
  },
  {
   "cell_type": "code",
   "execution_count": 345,
   "id": "33636593",
   "metadata": {},
   "outputs": [
    {
     "data": {
      "text/html": [
       "<div>\n",
       "<style scoped>\n",
       "    .dataframe tbody tr th:only-of-type {\n",
       "        vertical-align: middle;\n",
       "    }\n",
       "\n",
       "    .dataframe tbody tr th {\n",
       "        vertical-align: top;\n",
       "    }\n",
       "\n",
       "    .dataframe thead th {\n",
       "        text-align: right;\n",
       "    }\n",
       "</style>\n",
       "<table border=\"1\" class=\"dataframe\">\n",
       "  <thead>\n",
       "    <tr style=\"text-align: right;\">\n",
       "      <th>gender</th>\n",
       "      <th>female</th>\n",
       "      <th>male</th>\n",
       "    </tr>\n",
       "    <tr>\n",
       "      <th>smoker</th>\n",
       "      <th></th>\n",
       "      <th></th>\n",
       "    </tr>\n",
       "  </thead>\n",
       "  <tbody>\n",
       "    <tr>\n",
       "      <th>No</th>\n",
       "      <td>539</td>\n",
       "      <td>503</td>\n",
       "    </tr>\n",
       "    <tr>\n",
       "      <th>Yes</th>\n",
       "      <td>63</td>\n",
       "      <td>69</td>\n",
       "    </tr>\n",
       "  </tbody>\n",
       "</table>\n",
       "</div>"
      ],
      "text/plain": [
       "gender  female  male\n",
       "smoker              \n",
       "No         539   503\n",
       "Yes         63    69"
      ]
     },
     "execution_count": 345,
     "metadata": {},
     "output_type": "execute_result"
    }
   ],
   "source": [
    "pd.crosstab(index=df['smoker'],columns=df['gender'])\n"
   ]
  },
  {
   "cell_type": "code",
   "execution_count": 230,
   "id": "cb5bc984",
   "metadata": {},
   "outputs": [],
   "source": [
    "### Data Visualisation"
   ]
  },
  {
   "cell_type": "code",
   "execution_count": 231,
   "id": "5e0949c6",
   "metadata": {
    "scrolled": false
   },
   "outputs": [
    {
     "data": {
      "image/png": "[encoded data removed]",
      "text/plain": [
       "<Figure size 1000x1000 with 9 Axes>"
      ]
     },
     "metadata": {},
     "output_type": "display_data"
    }
   ],
   "source": [
    "# Histogram for each  feature\n",
    "df.hist(bins=10,figsize=(10,10))\n",
    "plt.show()"
   ]
  },
  {
   "cell_type": "code",
   "execution_count": 355,
   "id": "bc3d30da",
   "metadata": {
    "scrolled": true
   },
   "outputs": [
    {
     "data": {
      "image/png": "[encoded data removed]",
      "text/plain": [
       "<Figure size 1500x1000 with 2 Axes>"
      ]
     },
     "metadata": {},
     "output_type": "display_data"
    }
   ],
   "source": [
    "fig,axes = plt.subplots(1,2,figsize=(15,10))\n",
    "sns.countplot(x='smoker',data=df,ax=axes[0]).set(title=\"Distribution of Smokers\")\n",
    "sns.countplot(x='region',data=df,ax=axes[1]).set(title=\"Distribution of Region\")\n",
    "plt.show()"
   ]
  },
  {
   "cell_type": "code",
   "execution_count": 359,
   "id": "d4278402",
   "metadata": {},
   "outputs": [
    {
     "data": {
      "image/png": "[encoded data removed]",
      "text/plain": [
       "<Figure size 1500x1000 with 4 Axes>"
      ]
     },
     "metadata": {},
     "output_type": "display_data"
    }
   ],
   "source": [
    "# effect of gender,childern,smoker and region on charges of insurance\n",
    "fig,axes = plt.subplots(2,2,figsize=(15,10))\n",
    "sns.barplot(x='gender',y='claim',data=df,ax=axes[0,0]).set(title=\"Claim Vs Age\")\n",
    "sns.barplot(x='children',y='claim',data=df,ax=axes[0,1]).set(title=\"Claim Vs Children\")\n",
    "sns.barplot(x='smoker',y='claim',data=df,ax=axes[1,1]).set(title=\"Claim Vs Smokers\")\n",
    "sns.barplot(x='region',y='claim',data=df,ax=axes[1,0]).set(title=\"Claim Vs Region\")\n",
    "plt.show()"
   ]
  },
  {
   "cell_type": "code",
   "execution_count": 362,
   "id": "e18fd6e0",
   "metadata": {},
   "outputs": [
    {
     "data": {
      "text/plain": [
       "<Axes: xlabel='claim'>"
      ]
     },
     "execution_count": 362,
     "metadata": {},
     "output_type": "execute_result"
    },
    {
     "data": {
      "image/png": "[encoded data removed]",
      "text/plain": [
       "<Figure size 1600x1200 with 4 Axes>"
      ]
     },
     "metadata": {},
     "output_type": "display_data"
    }
   ],
   "source": [
    "plt.figure(figsize=(16,12))\n",
    "sns.set_style(style='whitegrid')\n",
    "plt.subplot(3,3,1)\n",
    "sns.boxplot(x='age',data=df)\n",
    "plt.subplot(3,3,2)\n",
    "sns.boxplot(x='bmi',data=df)\n",
    "plt.subplot(3,3,3)\n",
    "sns.boxplot(x='bloodpressure',data=df)\n",
    "plt.subplot(3,3,4)\n",
    "sns.boxplot(x='claim',data=df)"
   ]
  },
  {
   "cell_type": "code",
   "execution_count": 363,
   "id": "2be2600e",
   "metadata": {},
   "outputs": [],
   "source": [
    "# Age and BMI seems to have a normal distribution with most values clustered around the mean\n",
    "# Index and Patient ID column has to be dropped as we cannot infer anything from those columns\n",
    "# BMI, claim and bloodpressure has outliers toward higher end of distribution"
   ]
  },
  {
   "cell_type": "code",
   "execution_count": 364,
   "id": "8eac8955",
   "metadata": {
    "scrolled": false
   },
   "outputs": [
    {
     "data": {
      "image/png": "[encoded data removed]",
      "text/plain": [
       "<Figure size 800x500 with 1 Axes>"
      ]
     },
     "metadata": {},
     "output_type": "display_data"
    }
   ],
   "source": [
    "# Univariate Pie Chart\n",
    "plt.figure(figsize=(8, 5))\n",
    "df['region'].value_counts().plot(kind='pie', autopct='%1.1f%%', colors=sns.color_palette('pastel'))\n",
    "plt.title('Pie Chart of Regions')\n",
    "plt.ylabel('')\n",
    "plt.show()"
   ]
  },
  {
   "cell_type": "code",
   "execution_count": 365,
   "id": "aa702b01",
   "metadata": {},
   "outputs": [],
   "source": [
    "# Region is categorical with four distinct values, and the proportions are relatively balanced."
   ]
  },
  {
   "cell_type": "code",
   "execution_count": 366,
   "id": "67c54f72",
   "metadata": {},
   "outputs": [
    {
     "data": {
      "text/plain": [
       "<Axes: xlabel='age', ylabel='claim'>"
      ]
     },
     "execution_count": 366,
     "metadata": {},
     "output_type": "execute_result"
    },
    {
     "data": {
      "image/png": "[encoded data removed]",
      "text/plain": [
       "<Figure size 640x480 with 1 Axes>"
      ]
     },
     "metadata": {},
     "output_type": "display_data"
    }
   ],
   "source": [
    "# Bivariate Line Plot\n",
    "sns.lineplot(x='age', y='claim', data=df, errorbar=None)"
   ]
  },
  {
   "cell_type": "code",
   "execution_count": 367,
   "id": "4d3bd15c",
   "metadata": {},
   "outputs": [
    {
     "data": {
      "image/png": "[encoded data removed]",
      "text/plain": [
       "<Figure size 1000x600 with 1 Axes>"
      ]
     },
     "metadata": {},
     "output_type": "display_data"
    }
   ],
   "source": [
    "# Bivariate Scatter Plot\n",
    "plt.figure(figsize=(10, 6))\n",
    "sns.scatterplot(x='bmi', y='claim', hue='smoker', data=df)\n",
    "plt.title('Scatter Plot of Claim vs BMI (colored by Smoker)')\n",
    "plt.xlabel('BMI')\n",
    "plt.ylabel('Claim')\n",
    "plt.legend(title='Smoker')\n",
    "plt.show()"
   ]
  },
  {
   "cell_type": "code",
   "execution_count": 368,
   "id": "54b6ffb4",
   "metadata": {},
   "outputs": [],
   "source": [
    "#  BMI shows some outliers towards the higher end of the distribution.\n",
    "# Claim amount is positively correlated with age but seems to have a wider spread for smokers"
   ]
  },
  {
   "cell_type": "markdown",
   "id": "6a68f822",
   "metadata": {},
   "source": [
    "### Data Pre Processing"
   ]
  },
  {
   "cell_type": "code",
   "execution_count": null,
   "id": "b50b3af6",
   "metadata": {},
   "outputs": [],
   "source": [
    "# Drop ID columns - index and PatientID\n",
    "df = df.drop(columns=['index', 'PatientID'])"
   ]
  },
  {
   "cell_type": "code",
   "execution_count": 370,
   "id": "15b22639",
   "metadata": {
    "scrolled": false
   },
   "outputs": [
    {
     "data": {
      "text/plain": [
       "(1174, 9)"
      ]
     },
     "execution_count": 370,
     "metadata": {},
     "output_type": "execute_result"
    }
   ],
   "source": [
    "df.shape"
   ]
  },
  {
   "cell_type": "code",
   "execution_count": 371,
   "id": "769cdd4b",
   "metadata": {},
   "outputs": [
    {
     "data": {
      "text/plain": [
       "0"
      ]
     },
     "execution_count": 371,
     "metadata": {},
     "output_type": "execute_result"
    }
   ],
   "source": [
    "# checking for duplicate values\n",
    "df.duplicated().sum()"
   ]
  },
  {
   "cell_type": "code",
   "execution_count": 372,
   "id": "bca5646f",
   "metadata": {},
   "outputs": [],
   "source": [
    "#  Remove rows with missing values\n",
    "df = df.dropna()"
   ]
  },
  {
   "cell_type": "code",
   "execution_count": 373,
   "id": "36dc31d0",
   "metadata": {},
   "outputs": [
    {
     "data": {
      "text/plain": [
       "(1174, 9)"
      ]
     },
     "execution_count": 373,
     "metadata": {},
     "output_type": "execute_result"
    }
   ],
   "source": [
    "df.shape"
   ]
  },
  {
   "cell_type": "code",
   "execution_count": 374,
   "id": "360d29d7",
   "metadata": {},
   "outputs": [
    {
     "data": {
      "text/html": [
       "<div>\n",
       "<style scoped>\n",
       "    .dataframe tbody tr th:only-of-type {\n",
       "        vertical-align: middle;\n",
       "    }\n",
       "\n",
       "    .dataframe tbody tr th {\n",
       "        vertical-align: top;\n",
       "    }\n",
       "\n",
       "    .dataframe thead th {\n",
       "        text-align: right;\n",
       "    }\n",
       "</style>\n",
       "<table border=\"1\" class=\"dataframe\">\n",
       "  <thead>\n",
       "    <tr style=\"text-align: right;\">\n",
       "      <th></th>\n",
       "      <th>age</th>\n",
       "      <th>bmi</th>\n",
       "      <th>bloodpressure</th>\n",
       "      <th>children</th>\n",
       "      <th>claim</th>\n",
       "    </tr>\n",
       "  </thead>\n",
       "  <tbody>\n",
       "    <tr>\n",
       "      <th>0</th>\n",
       "      <td>39.0</td>\n",
       "      <td>23.2</td>\n",
       "      <td>91</td>\n",
       "      <td>0</td>\n",
       "      <td>1121.87</td>\n",
       "    </tr>\n",
       "    <tr>\n",
       "      <th>1</th>\n",
       "      <td>24.0</td>\n",
       "      <td>30.1</td>\n",
       "      <td>87</td>\n",
       "      <td>0</td>\n",
       "      <td>1131.51</td>\n",
       "    </tr>\n",
       "    <tr>\n",
       "      <th>7</th>\n",
       "      <td>19.0</td>\n",
       "      <td>41.1</td>\n",
       "      <td>100</td>\n",
       "      <td>0</td>\n",
       "      <td>1146.80</td>\n",
       "    </tr>\n",
       "    <tr>\n",
       "      <th>8</th>\n",
       "      <td>20.0</td>\n",
       "      <td>43.0</td>\n",
       "      <td>86</td>\n",
       "      <td>0</td>\n",
       "      <td>1149.40</td>\n",
       "    </tr>\n",
       "    <tr>\n",
       "      <th>10</th>\n",
       "      <td>36.0</td>\n",
       "      <td>19.8</td>\n",
       "      <td>88</td>\n",
       "      <td>0</td>\n",
       "      <td>1241.57</td>\n",
       "    </tr>\n",
       "  </tbody>\n",
       "</table>\n",
       "</div>"
      ],
      "text/plain": [
       "     age   bmi  bloodpressure  children    claim\n",
       "0   39.0  23.2             91         0  1121.87\n",
       "1   24.0  30.1             87         0  1131.51\n",
       "7   19.0  41.1            100         0  1146.80\n",
       "8   20.0  43.0             86         0  1149.40\n",
       "10  36.0  19.8             88         0  1241.57"
      ]
     },
     "execution_count": 374,
     "metadata": {},
     "output_type": "execute_result"
    }
   ],
   "source": [
    "# Step 3: Split numeric columns into X\n",
    "df_num = df.select_dtypes(include='number')\n",
    "df_num.head()"
   ]
  },
  {
   "cell_type": "code",
   "execution_count": 375,
   "id": "d3561960",
   "metadata": {},
   "outputs": [],
   "source": [
    "# outlier filter\n",
    "\n",
    "# get thresholds for outlier\n",
    "Q1 = df_num.quantile(0.25)\n",
    "Q3 = df_num.quantile(0.75)\n",
    "IQR = Q3 - Q1\n",
    "lower_bound = Q1 - 1.5 * IQR\n",
    "upper_bound = Q3 + 1.5 * IQR"
   ]
  },
  {
   "cell_type": "code",
   "execution_count": 376,
   "id": "8990410c",
   "metadata": {},
   "outputs": [
    {
     "data": {
      "text/plain": [
       "age                 2.00000\n",
       "bmi                13.55000\n",
       "bloodpressure      67.00000\n",
       "children           -3.00000\n",
       "claim           -8141.28625\n",
       "dtype: float64"
      ]
     },
     "execution_count": 376,
     "metadata": {},
     "output_type": "execute_result"
    }
   ],
   "source": [
    "lower_bound"
   ]
  },
  {
   "cell_type": "code",
   "execution_count": 377,
   "id": "fc458a1d",
   "metadata": {},
   "outputs": [],
   "source": [
    "df = df[~((df_num < lower_bound) | (df_num > upper_bound)).any(axis=1)]"
   ]
  },
  {
   "cell_type": "code",
   "execution_count": 378,
   "id": "234b7de1",
   "metadata": {},
   "outputs": [
    {
     "data": {
      "text/plain": [
       "(1122, 9)"
      ]
     },
     "execution_count": 378,
     "metadata": {},
     "output_type": "execute_result"
    }
   ],
   "source": [
    "df.shape"
   ]
  },
  {
   "cell_type": "code",
   "execution_count": 379,
   "id": "3cf00fd5",
   "metadata": {},
   "outputs": [],
   "source": [
    "# outlier filter\n",
    "\n",
    "# get thresholds for outlier\n",
    "Q1 = df_num.quantile(0.25)\n",
    "Q3 = df_num.quantile(0.75)\n",
    "IQR = Q3 - Q1\n",
    "lower_bound = Q1 - 1.5 * IQR\n",
    "upper_bound = Q3 + 1.5 * IQR"
   ]
  },
  {
   "cell_type": "code",
   "execution_count": 380,
   "id": "fac6133c",
   "metadata": {},
   "outputs": [
    {
     "data": {
      "text/plain": [
       "age                 74.00000\n",
       "bmi                 45.95000\n",
       "bloodpressure      115.00000\n",
       "children             5.00000\n",
       "claim            25382.18375\n",
       "dtype: float64"
      ]
     },
     "execution_count": 380,
     "metadata": {},
     "output_type": "execute_result"
    }
   ],
   "source": [
    "upper_bound"
   ]
  },
  {
   "cell_type": "code",
   "execution_count": 381,
   "id": "955319b3",
   "metadata": {},
   "outputs": [
    {
     "name": "stderr",
     "output_type": "stream",
     "text": [
      "C:\\Users\\Rasheeda_Banu\\AppData\\Local\\Temp\\ipykernel_14928\\632167277.py:1: UserWarning: Boolean Series key will be reindexed to match DataFrame index.\n",
      "  df = df[~((df_num < lower_bound) | (df_num > upper_bound)).any(axis=1)]\n"
     ]
    }
   ],
   "source": [
    "df = df[~((df_num < lower_bound) | (df_num > upper_bound)).any(axis=1)]"
   ]
  },
  {
   "cell_type": "code",
   "execution_count": 382,
   "id": "4cfd660f",
   "metadata": {},
   "outputs": [
    {
     "data": {
      "text/plain": [
       "(1122, 9)"
      ]
     },
     "execution_count": 382,
     "metadata": {},
     "output_type": "execute_result"
    }
   ],
   "source": [
    "df.shape"
   ]
  },
  {
   "cell_type": "code",
   "execution_count": 383,
   "id": "1eed2630",
   "metadata": {},
   "outputs": [
    {
     "data": {
      "text/plain": [
       "<Axes: xlabel='claim'>"
      ]
     },
     "execution_count": 383,
     "metadata": {},
     "output_type": "execute_result"
    },
    {
     "data": {
      "image/png": "[encoded data removed]",
      "text/plain": [
       "<Figure size 1600x1200 with 4 Axes>"
      ]
     },
     "metadata": {},
     "output_type": "display_data"
    }
   ],
   "source": [
    "plt.figure(figsize=(16,12))\n",
    "sns.set_style(style='whitegrid')\n",
    "plt.subplot(3,3,1)\n",
    "sns.boxplot(x='age',data=df)\n",
    "plt.subplot(3,3,2)\n",
    "sns.boxplot(x='bmi',data=df)\n",
    "plt.subplot(3,3,3)\n",
    "sns.boxplot(x='bloodpressure',data=df)\n",
    "plt.subplot(3,3,4)\n",
    "sns.boxplot(x='claim',data=df)"
   ]
  },
  {
   "cell_type": "code",
   "execution_count": 384,
   "id": "10aa2dae",
   "metadata": {},
   "outputs": [],
   "source": [
    "# We have treated outliers"
   ]
  },
  {
   "cell_type": "code",
   "execution_count": 385,
   "id": "4eac5676",
   "metadata": {},
   "outputs": [
    {
     "data": {
      "text/html": [
       "<div>\n",
       "<style scoped>\n",
       "    .dataframe tbody tr th:only-of-type {\n",
       "        vertical-align: middle;\n",
       "    }\n",
       "\n",
       "    .dataframe tbody tr th {\n",
       "        vertical-align: top;\n",
       "    }\n",
       "\n",
       "    .dataframe thead th {\n",
       "        text-align: right;\n",
       "    }\n",
       "</style>\n",
       "<table border=\"1\" class=\"dataframe\">\n",
       "  <thead>\n",
       "    <tr style=\"text-align: right;\">\n",
       "      <th></th>\n",
       "      <th>age</th>\n",
       "      <th>gender</th>\n",
       "      <th>bmi</th>\n",
       "      <th>bloodpressure</th>\n",
       "      <th>diabetic</th>\n",
       "      <th>children</th>\n",
       "      <th>smoker</th>\n",
       "      <th>region</th>\n",
       "    </tr>\n",
       "  </thead>\n",
       "  <tbody>\n",
       "    <tr>\n",
       "      <th>0</th>\n",
       "      <td>39.0</td>\n",
       "      <td>male</td>\n",
       "      <td>23.2</td>\n",
       "      <td>91</td>\n",
       "      <td>Yes</td>\n",
       "      <td>0</td>\n",
       "      <td>No</td>\n",
       "      <td>southeast</td>\n",
       "    </tr>\n",
       "    <tr>\n",
       "      <th>1</th>\n",
       "      <td>24.0</td>\n",
       "      <td>male</td>\n",
       "      <td>30.1</td>\n",
       "      <td>87</td>\n",
       "      <td>No</td>\n",
       "      <td>0</td>\n",
       "      <td>No</td>\n",
       "      <td>southeast</td>\n",
       "    </tr>\n",
       "    <tr>\n",
       "      <th>7</th>\n",
       "      <td>19.0</td>\n",
       "      <td>male</td>\n",
       "      <td>41.1</td>\n",
       "      <td>100</td>\n",
       "      <td>No</td>\n",
       "      <td>0</td>\n",
       "      <td>No</td>\n",
       "      <td>northwest</td>\n",
       "    </tr>\n",
       "    <tr>\n",
       "      <th>8</th>\n",
       "      <td>20.0</td>\n",
       "      <td>male</td>\n",
       "      <td>43.0</td>\n",
       "      <td>86</td>\n",
       "      <td>No</td>\n",
       "      <td>0</td>\n",
       "      <td>No</td>\n",
       "      <td>northwest</td>\n",
       "    </tr>\n",
       "    <tr>\n",
       "      <th>10</th>\n",
       "      <td>36.0</td>\n",
       "      <td>male</td>\n",
       "      <td>19.8</td>\n",
       "      <td>88</td>\n",
       "      <td>Yes</td>\n",
       "      <td>0</td>\n",
       "      <td>No</td>\n",
       "      <td>northwest</td>\n",
       "    </tr>\n",
       "  </tbody>\n",
       "</table>\n",
       "</div>"
      ],
      "text/plain": [
       "     age gender   bmi  bloodpressure diabetic  children smoker     region\n",
       "0   39.0   male  23.2             91      Yes         0     No  southeast\n",
       "1   24.0   male  30.1             87       No         0     No  southeast\n",
       "7   19.0   male  41.1            100       No         0     No  northwest\n",
       "8   20.0   male  43.0             86       No         0     No  northwest\n",
       "10  36.0   male  19.8             88      Yes         0     No  northwest"
      ]
     },
     "execution_count": 385,
     "metadata": {},
     "output_type": "execute_result"
    }
   ],
   "source": [
    "X = df.drop('claim', axis=1)\n",
    "y = df.claim\n",
    "X.head()"
   ]
  },
  {
   "cell_type": "code",
   "execution_count": 386,
   "id": "53c91d49",
   "metadata": {},
   "outputs": [
    {
     "data": {
      "text/html": [
       "<div>\n",
       "<style scoped>\n",
       "    .dataframe tbody tr th:only-of-type {\n",
       "        vertical-align: middle;\n",
       "    }\n",
       "\n",
       "    .dataframe tbody tr th {\n",
       "        vertical-align: top;\n",
       "    }\n",
       "\n",
       "    .dataframe thead th {\n",
       "        text-align: right;\n",
       "    }\n",
       "</style>\n",
       "<table border=\"1\" class=\"dataframe\">\n",
       "  <thead>\n",
       "    <tr style=\"text-align: right;\">\n",
       "      <th></th>\n",
       "      <th>age</th>\n",
       "      <th>bmi</th>\n",
       "      <th>bloodpressure</th>\n",
       "      <th>children</th>\n",
       "    </tr>\n",
       "  </thead>\n",
       "  <tbody>\n",
       "    <tr>\n",
       "      <th>0</th>\n",
       "      <td>39.0</td>\n",
       "      <td>23.2</td>\n",
       "      <td>91</td>\n",
       "      <td>0</td>\n",
       "    </tr>\n",
       "    <tr>\n",
       "      <th>1</th>\n",
       "      <td>24.0</td>\n",
       "      <td>30.1</td>\n",
       "      <td>87</td>\n",
       "      <td>0</td>\n",
       "    </tr>\n",
       "    <tr>\n",
       "      <th>7</th>\n",
       "      <td>19.0</td>\n",
       "      <td>41.1</td>\n",
       "      <td>100</td>\n",
       "      <td>0</td>\n",
       "    </tr>\n",
       "    <tr>\n",
       "      <th>8</th>\n",
       "      <td>20.0</td>\n",
       "      <td>43.0</td>\n",
       "      <td>86</td>\n",
       "      <td>0</td>\n",
       "    </tr>\n",
       "    <tr>\n",
       "      <th>10</th>\n",
       "      <td>36.0</td>\n",
       "      <td>19.8</td>\n",
       "      <td>88</td>\n",
       "      <td>0</td>\n",
       "    </tr>\n",
       "  </tbody>\n",
       "</table>\n",
       "</div>"
      ],
      "text/plain": [
       "     age   bmi  bloodpressure  children\n",
       "0   39.0  23.2             91         0\n",
       "1   24.0  30.1             87         0\n",
       "7   19.0  41.1            100         0\n",
       "8   20.0  43.0             86         0\n",
       "10  36.0  19.8             88         0"
      ]
     },
     "execution_count": 386,
     "metadata": {},
     "output_type": "execute_result"
    }
   ],
   "source": [
    "X_num = X.select_dtypes('number')\n",
    "X_num.head()"
   ]
  },
  {
   "cell_type": "code",
   "execution_count": 387,
   "id": "90b99697",
   "metadata": {},
   "outputs": [
    {
     "data": {
      "text/html": [
       "<div>\n",
       "<style scoped>\n",
       "    .dataframe tbody tr th:only-of-type {\n",
       "        vertical-align: middle;\n",
       "    }\n",
       "\n",
       "    .dataframe tbody tr th {\n",
       "        vertical-align: top;\n",
       "    }\n",
       "\n",
       "    .dataframe thead th {\n",
       "        text-align: right;\n",
       "    }\n",
       "</style>\n",
       "<table border=\"1\" class=\"dataframe\">\n",
       "  <thead>\n",
       "    <tr style=\"text-align: right;\">\n",
       "      <th></th>\n",
       "      <th>gender</th>\n",
       "      <th>diabetic</th>\n",
       "      <th>smoker</th>\n",
       "      <th>region</th>\n",
       "    </tr>\n",
       "  </thead>\n",
       "  <tbody>\n",
       "    <tr>\n",
       "      <th>0</th>\n",
       "      <td>male</td>\n",
       "      <td>Yes</td>\n",
       "      <td>No</td>\n",
       "      <td>southeast</td>\n",
       "    </tr>\n",
       "    <tr>\n",
       "      <th>1</th>\n",
       "      <td>male</td>\n",
       "      <td>No</td>\n",
       "      <td>No</td>\n",
       "      <td>southeast</td>\n",
       "    </tr>\n",
       "    <tr>\n",
       "      <th>7</th>\n",
       "      <td>male</td>\n",
       "      <td>No</td>\n",
       "      <td>No</td>\n",
       "      <td>northwest</td>\n",
       "    </tr>\n",
       "    <tr>\n",
       "      <th>8</th>\n",
       "      <td>male</td>\n",
       "      <td>No</td>\n",
       "      <td>No</td>\n",
       "      <td>northwest</td>\n",
       "    </tr>\n",
       "    <tr>\n",
       "      <th>10</th>\n",
       "      <td>male</td>\n",
       "      <td>Yes</td>\n",
       "      <td>No</td>\n",
       "      <td>northwest</td>\n",
       "    </tr>\n",
       "  </tbody>\n",
       "</table>\n",
       "</div>"
      ],
      "text/plain": [
       "   gender diabetic smoker     region\n",
       "0    male      Yes     No  southeast\n",
       "1    male       No     No  southeast\n",
       "7    male       No     No  northwest\n",
       "8    male       No     No  northwest\n",
       "10   male      Yes     No  northwest"
      ]
     },
     "execution_count": 387,
     "metadata": {},
     "output_type": "execute_result"
    }
   ],
   "source": [
    "X_cat = X.select_dtypes('object')\n",
    "X_cat.head()"
   ]
  },
  {
   "cell_type": "code",
   "execution_count": 388,
   "id": "e298db57",
   "metadata": {},
   "outputs": [],
   "source": [
    "# Rescale numeric columns \n",
    "scaler = MinMaxScaler()\n",
    "X_num_scaled = scaler.fit_transform(X_num)"
   ]
  },
  {
   "cell_type": "code",
   "execution_count": 389,
   "id": "fb664018",
   "metadata": {},
   "outputs": [],
   "source": [
    "# Convert the scaled numpy array back to a DataFrame\n",
    "X_num_scaled = pd.DataFrame(X_num_scaled, columns=X_num.columns, index=X_num.index)"
   ]
  },
  {
   "cell_type": "code",
   "execution_count": 390,
   "id": "8adb2017",
   "metadata": {},
   "outputs": [
    {
     "data": {
      "text/html": [
       "<div>\n",
       "<style scoped>\n",
       "    .dataframe tbody tr th:only-of-type {\n",
       "        vertical-align: middle;\n",
       "    }\n",
       "\n",
       "    .dataframe tbody tr th {\n",
       "        vertical-align: top;\n",
       "    }\n",
       "\n",
       "    .dataframe thead th {\n",
       "        text-align: right;\n",
       "    }\n",
       "</style>\n",
       "<table border=\"1\" class=\"dataframe\">\n",
       "  <thead>\n",
       "    <tr style=\"text-align: right;\">\n",
       "      <th></th>\n",
       "      <th>age</th>\n",
       "      <th>bmi</th>\n",
       "      <th>bloodpressure</th>\n",
       "      <th>children</th>\n",
       "    </tr>\n",
       "  </thead>\n",
       "  <tbody>\n",
       "    <tr>\n",
       "      <th>count</th>\n",
       "      <td>1122.000000</td>\n",
       "      <td>1122.000000</td>\n",
       "      <td>1122.000000</td>\n",
       "      <td>1122.000000</td>\n",
       "    </tr>\n",
       "    <tr>\n",
       "      <th>mean</th>\n",
       "      <td>0.484509</td>\n",
       "      <td>0.465503</td>\n",
       "      <td>0.388384</td>\n",
       "      <td>0.218360</td>\n",
       "    </tr>\n",
       "    <tr>\n",
       "      <th>std</th>\n",
       "      <td>0.264371</td>\n",
       "      <td>0.195380</td>\n",
       "      <td>0.255126</td>\n",
       "      <td>0.243784</td>\n",
       "    </tr>\n",
       "    <tr>\n",
       "      <th>min</th>\n",
       "      <td>0.000000</td>\n",
       "      <td>0.000000</td>\n",
       "      <td>0.000000</td>\n",
       "      <td>0.000000</td>\n",
       "    </tr>\n",
       "    <tr>\n",
       "      <th>25%</th>\n",
       "      <td>0.261905</td>\n",
       "      <td>0.324415</td>\n",
       "      <td>0.175000</td>\n",
       "      <td>0.000000</td>\n",
       "    </tr>\n",
       "    <tr>\n",
       "      <th>50%</th>\n",
       "      <td>0.476190</td>\n",
       "      <td>0.454849</td>\n",
       "      <td>0.366667</td>\n",
       "      <td>0.200000</td>\n",
       "    </tr>\n",
       "    <tr>\n",
       "      <th>75%</th>\n",
       "      <td>0.690476</td>\n",
       "      <td>0.594482</td>\n",
       "      <td>0.566667</td>\n",
       "      <td>0.400000</td>\n",
       "    </tr>\n",
       "    <tr>\n",
       "      <th>max</th>\n",
       "      <td>1.000000</td>\n",
       "      <td>1.000000</td>\n",
       "      <td>1.000000</td>\n",
       "      <td>1.000000</td>\n",
       "    </tr>\n",
       "  </tbody>\n",
       "</table>\n",
       "</div>"
      ],
      "text/plain": [
       "               age          bmi  bloodpressure     children\n",
       "count  1122.000000  1122.000000    1122.000000  1122.000000\n",
       "mean      0.484509     0.465503       0.388384     0.218360\n",
       "std       0.264371     0.195380       0.255126     0.243784\n",
       "min       0.000000     0.000000       0.000000     0.000000\n",
       "25%       0.261905     0.324415       0.175000     0.000000\n",
       "50%       0.476190     0.454849       0.366667     0.200000\n",
       "75%       0.690476     0.594482       0.566667     0.400000\n",
       "max       1.000000     1.000000       1.000000     1.000000"
      ]
     },
     "execution_count": 390,
     "metadata": {},
     "output_type": "execute_result"
    }
   ],
   "source": [
    "X_num_scaled.describe()"
   ]
  },
  {
   "cell_type": "code",
   "execution_count": 391,
   "id": "554c83d6",
   "metadata": {},
   "outputs": [],
   "source": [
    "# One-hot encode category columns\n",
    "X_cat_encoded = pd.get_dummies(X_cat, drop_first=False, dtype=int)  # Drop_first to avoid multicollinearity"
   ]
  },
  {
   "cell_type": "code",
   "execution_count": 392,
   "id": "2b9534d7",
   "metadata": {},
   "outputs": [],
   "source": [
    "# Merge df_num and df_cat_encoded into X\n",
    "X = pd.concat([X_num_scaled, X_cat_encoded], axis=1)"
   ]
  },
  {
   "cell_type": "code",
   "execution_count": 393,
   "id": "bb97c802",
   "metadata": {},
   "outputs": [
    {
     "data": {
      "text/plain": [
       "((1122, 14), (1122, 4), (1122, 10))"
      ]
     },
     "execution_count": 393,
     "metadata": {},
     "output_type": "execute_result"
    }
   ],
   "source": [
    " X.shape, X_num_scaled.shape, X_cat_encoded.shape"
   ]
  },
  {
   "cell_type": "code",
   "execution_count": 394,
   "id": "9f3691c7",
   "metadata": {},
   "outputs": [
    {
     "name": "stdout",
     "output_type": "stream",
     "text": [
      "\n",
      "Step 7: Checking for NAs and Shape Compatibility\n",
      "age                 0\n",
      "bmi                 0\n",
      "bloodpressure       0\n",
      "children            0\n",
      "gender_female       0\n",
      "gender_male         0\n",
      "diabetic_No         0\n",
      "diabetic_Yes        0\n",
      "smoker_No           0\n",
      "smoker_Yes          0\n",
      "region_northeast    0\n",
      "region_northwest    0\n",
      "region_southeast    0\n",
      "region_southwest    0\n",
      "dtype: int64\n",
      "0\n",
      "(1122, 14)\n",
      "(1122,)\n"
     ]
    }
   ],
   "source": [
    "# Check for NA in X and y; Check for shape compatibility\n",
    "print(\"\\nStep 7: Checking for NAs and Shape Compatibility\")\n",
    "print(X.isnull().sum())\n",
    "print(y.isnull().sum())\n",
    "print(X.shape)\n",
    "print(y.shape)"
   ]
  },
  {
   "cell_type": "code",
   "execution_count": 395,
   "id": "ff512886",
   "metadata": {},
   "outputs": [
    {
     "data": {
      "text/html": [
       "<div>\n",
       "<style scoped>\n",
       "    .dataframe tbody tr th:only-of-type {\n",
       "        vertical-align: middle;\n",
       "    }\n",
       "\n",
       "    .dataframe tbody tr th {\n",
       "        vertical-align: top;\n",
       "    }\n",
       "\n",
       "    .dataframe thead th {\n",
       "        text-align: right;\n",
       "    }\n",
       "</style>\n",
       "<table border=\"1\" class=\"dataframe\">\n",
       "  <thead>\n",
       "    <tr style=\"text-align: right;\">\n",
       "      <th></th>\n",
       "      <th>age</th>\n",
       "      <th>bmi</th>\n",
       "      <th>bloodpressure</th>\n",
       "      <th>children</th>\n",
       "      <th>gender_female</th>\n",
       "      <th>gender_male</th>\n",
       "      <th>diabetic_No</th>\n",
       "      <th>diabetic_Yes</th>\n",
       "      <th>smoker_No</th>\n",
       "      <th>smoker_Yes</th>\n",
       "      <th>region_northeast</th>\n",
       "      <th>region_northwest</th>\n",
       "      <th>region_southeast</th>\n",
       "      <th>region_southwest</th>\n",
       "    </tr>\n",
       "  </thead>\n",
       "  <tbody>\n",
       "    <tr>\n",
       "      <th>count</th>\n",
       "      <td>1122.000000</td>\n",
       "      <td>1122.000000</td>\n",
       "      <td>1122.000000</td>\n",
       "      <td>1122.000000</td>\n",
       "      <td>1122.000000</td>\n",
       "      <td>1122.000000</td>\n",
       "      <td>1122.000000</td>\n",
       "      <td>1122.000000</td>\n",
       "      <td>1122.000000</td>\n",
       "      <td>1122.000000</td>\n",
       "      <td>1122.000000</td>\n",
       "      <td>1122.000000</td>\n",
       "      <td>1122.000000</td>\n",
       "      <td>1122.000000</td>\n",
       "    </tr>\n",
       "    <tr>\n",
       "      <th>mean</th>\n",
       "      <td>0.484509</td>\n",
       "      <td>0.465503</td>\n",
       "      <td>0.388384</td>\n",
       "      <td>0.218360</td>\n",
       "      <td>0.515152</td>\n",
       "      <td>0.484848</td>\n",
       "      <td>0.522282</td>\n",
       "      <td>0.477718</td>\n",
       "      <td>0.904635</td>\n",
       "      <td>0.095365</td>\n",
       "      <td>0.166667</td>\n",
       "      <td>0.270053</td>\n",
       "      <td>0.320856</td>\n",
       "      <td>0.242424</td>\n",
       "    </tr>\n",
       "    <tr>\n",
       "      <th>std</th>\n",
       "      <td>0.264371</td>\n",
       "      <td>0.195380</td>\n",
       "      <td>0.255126</td>\n",
       "      <td>0.243784</td>\n",
       "      <td>0.499993</td>\n",
       "      <td>0.499993</td>\n",
       "      <td>0.499726</td>\n",
       "      <td>0.499726</td>\n",
       "      <td>0.293850</td>\n",
       "      <td>0.293850</td>\n",
       "      <td>0.372844</td>\n",
       "      <td>0.444185</td>\n",
       "      <td>0.467014</td>\n",
       "      <td>0.428741</td>\n",
       "    </tr>\n",
       "    <tr>\n",
       "      <th>min</th>\n",
       "      <td>0.000000</td>\n",
       "      <td>0.000000</td>\n",
       "      <td>0.000000</td>\n",
       "      <td>0.000000</td>\n",
       "      <td>0.000000</td>\n",
       "      <td>0.000000</td>\n",
       "      <td>0.000000</td>\n",
       "      <td>0.000000</td>\n",
       "      <td>0.000000</td>\n",
       "      <td>0.000000</td>\n",
       "      <td>0.000000</td>\n",
       "      <td>0.000000</td>\n",
       "      <td>0.000000</td>\n",
       "      <td>0.000000</td>\n",
       "    </tr>\n",
       "    <tr>\n",
       "      <th>25%</th>\n",
       "      <td>0.261905</td>\n",
       "      <td>0.324415</td>\n",
       "      <td>0.175000</td>\n",
       "      <td>0.000000</td>\n",
       "      <td>0.000000</td>\n",
       "      <td>0.000000</td>\n",
       "      <td>0.000000</td>\n",
       "      <td>0.000000</td>\n",
       "      <td>1.000000</td>\n",
       "      <td>0.000000</td>\n",
       "      <td>0.000000</td>\n",
       "      <td>0.000000</td>\n",
       "      <td>0.000000</td>\n",
       "      <td>0.000000</td>\n",
       "    </tr>\n",
       "    <tr>\n",
       "      <th>50%</th>\n",
       "      <td>0.476190</td>\n",
       "      <td>0.454849</td>\n",
       "      <td>0.366667</td>\n",
       "      <td>0.200000</td>\n",
       "      <td>1.000000</td>\n",
       "      <td>0.000000</td>\n",
       "      <td>1.000000</td>\n",
       "      <td>0.000000</td>\n",
       "      <td>1.000000</td>\n",
       "      <td>0.000000</td>\n",
       "      <td>0.000000</td>\n",
       "      <td>0.000000</td>\n",
       "      <td>0.000000</td>\n",
       "      <td>0.000000</td>\n",
       "    </tr>\n",
       "    <tr>\n",
       "      <th>75%</th>\n",
       "      <td>0.690476</td>\n",
       "      <td>0.594482</td>\n",
       "      <td>0.566667</td>\n",
       "      <td>0.400000</td>\n",
       "      <td>1.000000</td>\n",
       "      <td>1.000000</td>\n",
       "      <td>1.000000</td>\n",
       "      <td>1.000000</td>\n",
       "      <td>1.000000</td>\n",
       "      <td>0.000000</td>\n",
       "      <td>0.000000</td>\n",
       "      <td>1.000000</td>\n",
       "      <td>1.000000</td>\n",
       "      <td>0.000000</td>\n",
       "    </tr>\n",
       "    <tr>\n",
       "      <th>max</th>\n",
       "      <td>1.000000</td>\n",
       "      <td>1.000000</td>\n",
       "      <td>1.000000</td>\n",
       "      <td>1.000000</td>\n",
       "      <td>1.000000</td>\n",
       "      <td>1.000000</td>\n",
       "      <td>1.000000</td>\n",
       "      <td>1.000000</td>\n",
       "      <td>1.000000</td>\n",
       "      <td>1.000000</td>\n",
       "      <td>1.000000</td>\n",
       "      <td>1.000000</td>\n",
       "      <td>1.000000</td>\n",
       "      <td>1.000000</td>\n",
       "    </tr>\n",
       "  </tbody>\n",
       "</table>\n",
       "</div>"
      ],
      "text/plain": [
       "               age          bmi  bloodpressure     children  gender_female  \\\n",
       "count  1122.000000  1122.000000    1122.000000  1122.000000    1122.000000   \n",
       "mean      0.484509     0.465503       0.388384     0.218360       0.515152   \n",
       "std       0.264371     0.195380       0.255126     0.243784       0.499993   \n",
       "min       0.000000     0.000000       0.000000     0.000000       0.000000   \n",
       "25%       0.261905     0.324415       0.175000     0.000000       0.000000   \n",
       "50%       0.476190     0.454849       0.366667     0.200000       1.000000   \n",
       "75%       0.690476     0.594482       0.566667     0.400000       1.000000   \n",
       "max       1.000000     1.000000       1.000000     1.000000       1.000000   \n",
       "\n",
       "       gender_male  diabetic_No  diabetic_Yes    smoker_No   smoker_Yes  \\\n",
       "count  1122.000000  1122.000000   1122.000000  1122.000000  1122.000000   \n",
       "mean      0.484848     0.522282      0.477718     0.904635     0.095365   \n",
       "std       0.499993     0.499726      0.499726     0.293850     0.293850   \n",
       "min       0.000000     0.000000      0.000000     0.000000     0.000000   \n",
       "25%       0.000000     0.000000      0.000000     1.000000     0.000000   \n",
       "50%       0.000000     1.000000      0.000000     1.000000     0.000000   \n",
       "75%       1.000000     1.000000      1.000000     1.000000     0.000000   \n",
       "max       1.000000     1.000000      1.000000     1.000000     1.000000   \n",
       "\n",
       "       region_northeast  region_northwest  region_southeast  region_southwest  \n",
       "count       1122.000000       1122.000000       1122.000000       1122.000000  \n",
       "mean           0.166667          0.270053          0.320856          0.242424  \n",
       "std            0.372844          0.444185          0.467014          0.428741  \n",
       "min            0.000000          0.000000          0.000000          0.000000  \n",
       "25%            0.000000          0.000000          0.000000          0.000000  \n",
       "50%            0.000000          0.000000          0.000000          0.000000  \n",
       "75%            0.000000          1.000000          1.000000          0.000000  \n",
       "max            1.000000          1.000000          1.000000          1.000000  "
      ]
     },
     "execution_count": 395,
     "metadata": {},
     "output_type": "execute_result"
    }
   ],
   "source": [
    "X.describe()"
   ]
  },
  {
   "cell_type": "code",
   "execution_count": 396,
   "id": "13c6ab9a",
   "metadata": {},
   "outputs": [],
   "source": [
    "# Train-test split\n",
    "X_train, X_test, y_train, y_test = train_test_split(X, y, test_size=0.2, random_state=42)"
   ]
  },
  {
   "cell_type": "code",
   "execution_count": 397,
   "id": "33e1b64d",
   "metadata": {},
   "outputs": [
    {
     "name": "stdout",
     "output_type": "stream",
     "text": [
      "(897, 14)\n",
      "(225, 14)\n",
      "(897,)\n",
      "(225,)\n"
     ]
    }
   ],
   "source": [
    "print(X_train.shape)\n",
    "print(X_test.shape)\n",
    "print(y_train.shape) \n",
    "print(y_test.shape)"
   ]
  },
  {
   "cell_type": "code",
   "execution_count": 287,
   "id": "f3b5f87d",
   "metadata": {},
   "outputs": [],
   "source": [
    "# -  Observations after preprocessing\n",
    "# - ID columns have been removed.\n",
    "# - Rows with missing values have been removed.\n",
    "# - Numeric and categorical features have been separated into X and y, respectively.\n",
    "# - Numeric columns have been rescaled \n",
    "# - Category columns have been one-hot encoded to be used in the model.\n",
    "# - The dataset has been split into train and test sets for model evaluation."
   ]
  },
  {
   "cell_type": "markdown",
   "id": "a71a5189",
   "metadata": {},
   "source": [
    "### KNN Regression"
   ]
  },
  {
   "cell_type": "code",
   "execution_count": 398,
   "id": "0ef26054",
   "metadata": {},
   "outputs": [],
   "source": [
    "# Train the model with different K values and plot MAPE scores\n",
    "k_values = np.arange(1,100,5)\n",
    "train_mape_scores = []\n",
    "test_mape_scores = []"
   ]
  },
  {
   "cell_type": "code",
   "execution_count": 399,
   "id": "be37ed5d",
   "metadata": {},
   "outputs": [],
   "source": [
    "for k in k_values:\n",
    "    knn = KNeighborsRegressor(n_neighbors=k)\n",
    "    knn.fit(X_train, y_train)\n",
    "    \n",
    "    train_pred = knn.predict(X_train)\n",
    "    test_pred = knn.predict(X_test)\n",
    "    \n",
    "    train_mape = mean_absolute_percentage_error(y_train, train_pred)\n",
    "    test_mape = mean_absolute_percentage_error(y_test, test_pred)\n",
    "    \n",
    "    train_mape_scores.append(train_mape)\n",
    "    test_mape_scores.append(test_mape)"
   ]
  },
  {
   "cell_type": "code",
   "execution_count": 400,
   "id": "cf058dde",
   "metadata": {
    "scrolled": true
   },
   "outputs": [
    {
     "data": {
      "text/plain": [
       "[0.866206057815439,\n",
       " 0.754024260321868,\n",
       " 0.7360099053841137,\n",
       " 0.7271452759311046,\n",
       " 0.7377166780098171,\n",
       " 0.739392761945597,\n",
       " 0.7373727683827909,\n",
       " 0.7503148093096386,\n",
       " 0.7519709987138364,\n",
       " 0.7561837270581532,\n",
       " 0.766111078264333,\n",
       " 0.7642280798661735,\n",
       " 0.7697818854246937,\n",
       " 0.7723791005821934,\n",
       " 0.7733678986926384,\n",
       " 0.7770710847049527,\n",
       " 0.7787967382409031,\n",
       " 0.7804221655215438,\n",
       " 0.7810937824968732,\n",
       " 0.7803357239026046]"
      ]
     },
     "execution_count": 400,
     "metadata": {},
     "output_type": "execute_result"
    }
   ],
   "source": [
    "test_mape_scores"
   ]
  },
  {
   "cell_type": "code",
   "execution_count": 401,
   "id": "0473430f",
   "metadata": {},
   "outputs": [
    {
     "data": {
      "image/png": "[encoded data removed]",
      "text/plain": [
       "<Figure size 1000x600 with 1 Axes>"
      ]
     },
     "metadata": {},
     "output_type": "display_data"
    }
   ],
   "source": [
    "plt.figure(figsize=(10, 6))\n",
    "plt.plot(k_values, train_mape_scores, marker='o', label='Train MAPE')\n",
    "plt.plot(k_values, test_mape_scores, marker='*', label='Test MAPE')\n",
    "plt.xlabel('K value')\n",
    "plt.ylabel('MAPE Score')\n",
    "plt.title('MAPE Scores for different K values in KNN Regressor')\n",
    "plt.legend()\n",
    "plt.show()"
   ]
  },
  {
   "cell_type": "markdown",
   "id": "40694224",
   "metadata": {},
   "source": [
    "### Finding best value of k using holdout set method"
   ]
  },
  {
   "cell_type": "code",
   "execution_count": 409,
   "id": "dbd3b5f2",
   "metadata": {},
   "outputs": [
    {
     "name": "stdout",
     "output_type": "stream",
     "text": [
      "The best K value for Hold Out set is 7.\n"
     ]
    }
   ],
   "source": [
    "k_values = np.arange(1,11,2)\n",
    "train_mape_scores = []\n",
    "test_mape_scores = []\n",
    "best_mape=float('inf')\n",
    "\n",
    "for k in k_values:\n",
    "    knn=KNeighborsRegressor(n_neighbors=k)\n",
    "    knn.fit(X_train,y_train)\n",
    "    train_pred=knn.predict(X_train)\n",
    "    train_mape=mean_absolute_percentage_error(y_train,train_pred)\n",
    "    test_pred=knn.predict(X_test)\n",
    "    test_mape=mean_absolute_percentage_error(y_test,test_pred)\n",
    "    train_mape_scores.append(train_mape)\n",
    "    test_mape_scores.append(test_mape)\n",
    "    \n",
    "    if test_mape < best_mape:\n",
    "        best_mape=test_mape\n",
    "        best_k = k\n",
    "        \n",
    "print(f\"The best K value for Hold Out set is {best_k}.\")"
   ]
  },
  {
   "cell_type": "markdown",
   "id": "90f8a29d",
   "metadata": {},
   "source": [
    "### Finding best value of k using cross validation method"
   ]
  },
  {
   "cell_type": "code",
   "execution_count": 410,
   "id": "f9a166b9",
   "metadata": {},
   "outputs": [],
   "source": [
    "# Train the model with different K values and calculate MAPE scores using CV\n",
    "k_values = np.arange(1, 11, 2)\n",
    "cv_mape_scores = []\n",
    "train_mape_scores = []\n",
    "test_mape_scores = []\n",
    "\n",
    "for k in k_values:\n",
    "    knn = KNeighborsRegressor(n_neighbors=k)\n",
    "    \n",
    "    # Calculate CV MAPE using cross-validation (CV) with full X and y\n",
    "    cv_scores = -cross_val_score(knn, X_num_scaled, y, cv=5, scoring='neg_mean_absolute_percentage_error')\n",
    "    cv_mape = np.mean(cv_scores)\n",
    "    cv_mape_scores.append(cv_mape)\n",
    "    \n",
    "    # Train the model on the full training set and calculate train MAPE\n",
    "    knn.fit(X_train, y_train)\n",
    "    train_pred = knn.predict(X_train)\n",
    "    train_mape = mean_absolute_percentage_error(y_train, train_pred)\n",
    "    train_mape_scores.append(train_mape)\n",
    "    \n",
    "    # Calculate test MAPE\n",
    "    test_pred = knn.predict(X_test)\n",
    "    test_mape = mean_absolute_percentage_error(y_test, test_pred)\n",
    "    test_mape_scores.append(test_mape)"
   ]
  },
  {
   "cell_type": "code",
   "execution_count": 408,
   "id": "c2015e8b",
   "metadata": {},
   "outputs": [
    {
     "data": {
      "image/png": "[encoded data removed]",
      "text/plain": [
       "<Figure size 1000x600 with 1 Axes>"
      ]
     },
     "metadata": {},
     "output_type": "display_data"
    },
    {
     "name": "stdout",
     "output_type": "stream",
     "text": [
      "The best K value for CV is 7.\n"
     ]
    }
   ],
   "source": [
    "# Plot CV MAPE, Train MAPE, and Test MAPE for different K values\n",
    "plt.figure(figsize=(10, 6))\n",
    "plt.plot(k_values, cv_mape_scores, marker='*', label='CV MAPE')\n",
    "plt.plot(k_values, train_mape_scores, marker='o', label='Train MAPE')\n",
    "plt.plot(k_values, test_mape_scores, marker='^', label='Test MAPE')\n",
    "plt.xlabel('K value')\n",
    "plt.ylabel('MAPE Score')\n",
    "plt.title('MAPE Scores for different K values in KNN Regressor')\n",
    "plt.legend()\n",
    "plt.show()\n",
    "\n",
    "# Compare the best K value for CV\n",
    "best_k_cv = k_values[np.argmin(cv_mape_scores)]\n",
    "print(f\"The best K value for CV is {best_k_cv}.\")"
   ]
  },
  {
   "cell_type": "markdown",
   "id": "6f04b63d",
   "metadata": {},
   "source": [
    "### Linear Regression"
   ]
  },
  {
   "cell_type": "code",
   "execution_count": 411,
   "id": "e3755687",
   "metadata": {},
   "outputs": [],
   "source": [
    "from sklearn.metrics import mean_squared_error\n",
    "\n",
    "lm = LinearRegression()\n",
    "model = lm.fit(X_train,y_train)"
   ]
  },
  {
   "cell_type": "code",
   "execution_count": 412,
   "id": "1a501009",
   "metadata": {},
   "outputs": [
    {
     "data": {
      "text/plain": [
       "0.44271342267671776"
      ]
     },
     "execution_count": 412,
     "metadata": {},
     "output_type": "execute_result"
    }
   ],
   "source": [
    "model.score(X_train,y_train)\n"
   ]
  },
  {
   "cell_type": "code",
   "execution_count": 413,
   "id": "9e7be7f4",
   "metadata": {},
   "outputs": [
    {
     "data": {
      "text/plain": [
       "4378.831384953291"
      ]
     },
     "execution_count": 413,
     "metadata": {},
     "output_type": "execute_result"
    }
   ],
   "source": [
    "y_train_pred=model.predict(X_train)\n",
    "train_RMSE = np.sqrt(mean_squared_error(y_train, y_train_pred))\n",
    "train_RMSE"
   ]
  },
  {
   "cell_type": "code",
   "execution_count": 414,
   "id": "d90d14ee",
   "metadata": {},
   "outputs": [
    {
     "data": {
      "text/plain": [
       "4368.6398712607715"
      ]
     },
     "execution_count": 414,
     "metadata": {},
     "output_type": "execute_result"
    }
   ],
   "source": [
    "# predict\n",
    "y_test_pred = model.predict(X_test)\n",
    "y_test_pred\n",
    "test_RMSE = np.sqrt(mean_squared_error(y_test, y_test_pred))\n",
    "test_RMSE"
   ]
  },
  {
   "cell_type": "code",
   "execution_count": 415,
   "id": "59a0f217",
   "metadata": {},
   "outputs": [
    {
     "data": {
      "text/plain": [
       "0.41045239466497974"
      ]
     },
     "execution_count": 415,
     "metadata": {},
     "output_type": "execute_result"
    }
   ],
   "source": [
    "model.score(X_test,y_test)\n"
   ]
  },
  {
   "cell_type": "code",
   "execution_count": 416,
   "id": "e119b78e",
   "metadata": {},
   "outputs": [
    {
     "data": {
      "text/plain": [
       "(-5.142718278700936e+16,\n",
       " array([ 1.01008930e+03,  3.42522403e+03,  4.15179705e+03,  2.67622289e+03,\n",
       "        -2.18551474e+15, -2.18551474e+15,  8.12396332e+15,  8.12396332e+15,\n",
       "         2.00338005e+15,  2.00338005e+15,  4.34853542e+16,  4.34853542e+16,\n",
       "         4.34853542e+16,  4.34853542e+16]))"
      ]
     },
     "execution_count": 416,
     "metadata": {},
     "output_type": "execute_result"
    }
   ],
   "source": [
    "model.intercept_, model.coef_\n"
   ]
  },
  {
   "cell_type": "code",
   "execution_count": 417,
   "id": "76b760ac",
   "metadata": {},
   "outputs": [],
   "source": [
    "# predicted values\n",
    "yhat_train = model.predict(X_train)"
   ]
  },
  {
   "cell_type": "code",
   "execution_count": 418,
   "id": "bf05cc83",
   "metadata": {},
   "outputs": [
    {
     "data": {
      "text/plain": [
       "0.44271342267671776"
      ]
     },
     "execution_count": 418,
     "metadata": {},
     "output_type": "execute_result"
    }
   ],
   "source": [
    "# Finding R Square \n",
    "rsquare=model.score(X_train,y_train)\n",
    "rsquare"
   ]
  },
  {
   "cell_type": "code",
   "execution_count": 419,
   "id": "ccba101f",
   "metadata": {},
   "outputs": [],
   "source": [
    "# predict y_test using the model\n",
    "yhat_test = model.predict(X_test)\n"
   ]
  },
  {
   "cell_type": "code",
   "execution_count": 420,
   "id": "81a70f30",
   "metadata": {},
   "outputs": [
    {
     "data": {
      "text/plain": [
       "(19174164.29785195, 19085014.324769333)"
      ]
     },
     "execution_count": 420,
     "metadata": {},
     "output_type": "execute_result"
    }
   ],
   "source": [
    "# Calculating MSE on train and test\n",
    "model_slr_MSE_train = np.mean((y_train - yhat_train)**2)\n",
    "model_slr_MSE_test = np.mean((y_test - yhat_test)**2)\n",
    "model_slr_MSE_train, model_slr_MSE_test"
   ]
  },
  {
   "cell_type": "code",
   "execution_count": 421,
   "id": "12b7f6b2",
   "metadata": {},
   "outputs": [],
   "source": [
    "# Calculating MAPE on train and test\n",
    "model_slr_MAPE_train = np.mean((abs(y_train - yhat_train)/y_train)*100)\n",
    "model_slr_MAPE_test = np.mean((abs(y_test - yhat_test)/y_test)*100)\n",
    "     "
   ]
  },
  {
   "cell_type": "code",
   "execution_count": 422,
   "id": "b54c437f",
   "metadata": {},
   "outputs": [],
   "source": [
    "model_slr_performance = {'model':\"model_slr\",'R Sq':rsquare,'train_MSE':model_slr_MSE_train,'test_MSE':model_slr_MSE_test,'train_MAPE':model_slr_MAPE_train,'test_MAPE':model_slr_MAPE_test}\n"
   ]
  },
  {
   "cell_type": "code",
   "execution_count": 423,
   "id": "51659e66",
   "metadata": {},
   "outputs": [],
   "source": [
    "import statsmodels.api as sm\n",
    "Xrm_train = sm.add_constant(X_train)\n"
   ]
  },
  {
   "cell_type": "code",
   "execution_count": 424,
   "id": "364d89f6",
   "metadata": {},
   "outputs": [
    {
     "data": {
      "text/html": [
       "<div>\n",
       "<style scoped>\n",
       "    .dataframe tbody tr th:only-of-type {\n",
       "        vertical-align: middle;\n",
       "    }\n",
       "\n",
       "    .dataframe tbody tr th {\n",
       "        vertical-align: top;\n",
       "    }\n",
       "\n",
       "    .dataframe thead th {\n",
       "        text-align: right;\n",
       "    }\n",
       "</style>\n",
       "<table border=\"1\" class=\"dataframe\">\n",
       "  <thead>\n",
       "    <tr style=\"text-align: right;\">\n",
       "      <th></th>\n",
       "      <th>const</th>\n",
       "      <th>age</th>\n",
       "      <th>bmi</th>\n",
       "      <th>bloodpressure</th>\n",
       "      <th>children</th>\n",
       "      <th>gender_female</th>\n",
       "      <th>gender_male</th>\n",
       "      <th>diabetic_No</th>\n",
       "      <th>diabetic_Yes</th>\n",
       "      <th>smoker_No</th>\n",
       "      <th>smoker_Yes</th>\n",
       "      <th>region_northeast</th>\n",
       "      <th>region_northwest</th>\n",
       "      <th>region_southeast</th>\n",
       "      <th>region_southwest</th>\n",
       "    </tr>\n",
       "  </thead>\n",
       "  <tbody>\n",
       "    <tr>\n",
       "      <th>1123</th>\n",
       "      <td>1.0</td>\n",
       "      <td>1.000000</td>\n",
       "      <td>0.488294</td>\n",
       "      <td>0.166667</td>\n",
       "      <td>0.4</td>\n",
       "      <td>1</td>\n",
       "      <td>0</td>\n",
       "      <td>1</td>\n",
       "      <td>0</td>\n",
       "      <td>1</td>\n",
       "      <td>0</td>\n",
       "      <td>0</td>\n",
       "      <td>1</td>\n",
       "      <td>0</td>\n",
       "      <td>0</td>\n",
       "    </tr>\n",
       "    <tr>\n",
       "      <th>887</th>\n",
       "      <td>1.0</td>\n",
       "      <td>0.976190</td>\n",
       "      <td>0.638796</td>\n",
       "      <td>0.133333</td>\n",
       "      <td>0.0</td>\n",
       "      <td>1</td>\n",
       "      <td>0</td>\n",
       "      <td>0</td>\n",
       "      <td>1</td>\n",
       "      <td>1</td>\n",
       "      <td>0</td>\n",
       "      <td>0</td>\n",
       "      <td>0</td>\n",
       "      <td>0</td>\n",
       "      <td>1</td>\n",
       "    </tr>\n",
       "    <tr>\n",
       "      <th>195</th>\n",
       "      <td>1.0</td>\n",
       "      <td>0.357143</td>\n",
       "      <td>0.528428</td>\n",
       "      <td>0.600000</td>\n",
       "      <td>0.4</td>\n",
       "      <td>1</td>\n",
       "      <td>0</td>\n",
       "      <td>0</td>\n",
       "      <td>1</td>\n",
       "      <td>1</td>\n",
       "      <td>0</td>\n",
       "      <td>0</td>\n",
       "      <td>0</td>\n",
       "      <td>1</td>\n",
       "      <td>0</td>\n",
       "    </tr>\n",
       "    <tr>\n",
       "      <th>1061</th>\n",
       "      <td>1.0</td>\n",
       "      <td>0.690476</td>\n",
       "      <td>0.595318</td>\n",
       "      <td>0.600000</td>\n",
       "      <td>0.0</td>\n",
       "      <td>0</td>\n",
       "      <td>1</td>\n",
       "      <td>1</td>\n",
       "      <td>0</td>\n",
       "      <td>1</td>\n",
       "      <td>0</td>\n",
       "      <td>0</td>\n",
       "      <td>1</td>\n",
       "      <td>0</td>\n",
       "      <td>0</td>\n",
       "    </tr>\n",
       "    <tr>\n",
       "      <th>1137</th>\n",
       "      <td>1.0</td>\n",
       "      <td>0.952381</td>\n",
       "      <td>0.739130</td>\n",
       "      <td>0.466667</td>\n",
       "      <td>0.4</td>\n",
       "      <td>1</td>\n",
       "      <td>0</td>\n",
       "      <td>1</td>\n",
       "      <td>0</td>\n",
       "      <td>1</td>\n",
       "      <td>0</td>\n",
       "      <td>1</td>\n",
       "      <td>0</td>\n",
       "      <td>0</td>\n",
       "      <td>0</td>\n",
       "    </tr>\n",
       "  </tbody>\n",
       "</table>\n",
       "</div>"
      ],
      "text/plain": [
       "      const       age       bmi  bloodpressure  children  gender_female  \\\n",
       "1123    1.0  1.000000  0.488294       0.166667       0.4              1   \n",
       "887     1.0  0.976190  0.638796       0.133333       0.0              1   \n",
       "195     1.0  0.357143  0.528428       0.600000       0.4              1   \n",
       "1061    1.0  0.690476  0.595318       0.600000       0.0              0   \n",
       "1137    1.0  0.952381  0.739130       0.466667       0.4              1   \n",
       "\n",
       "      gender_male  diabetic_No  diabetic_Yes  smoker_No  smoker_Yes  \\\n",
       "1123            0            1             0          1           0   \n",
       "887             0            0             1          1           0   \n",
       "195             0            0             1          1           0   \n",
       "1061            1            1             0          1           0   \n",
       "1137            0            1             0          1           0   \n",
       "\n",
       "      region_northeast  region_northwest  region_southeast  region_southwest  \n",
       "1123                 0                 1                 0                 0  \n",
       "887                  0                 0                 0                 1  \n",
       "195                  0                 0                 1                 0  \n",
       "1061                 0                 1                 0                 0  \n",
       "1137                 1                 0                 0                 0  "
      ]
     },
     "execution_count": 424,
     "metadata": {},
     "output_type": "execute_result"
    }
   ],
   "source": [
    "Xrm_train.head()\n"
   ]
  },
  {
   "cell_type": "code",
   "execution_count": 425,
   "id": "17dcf60f",
   "metadata": {},
   "outputs": [],
   "source": [
    "sm_model = sm.OLS(y_train,Xrm_train)\n",
    "results = sm_model.fit()"
   ]
  },
  {
   "cell_type": "code",
   "execution_count": 426,
   "id": "af50dfe3",
   "metadata": {},
   "outputs": [
    {
     "data": {
      "text/html": [
       "<table class=\"simpletable\">\n",
       "<caption>OLS Regression Results</caption>\n",
       "<tr>\n",
       "  <th>Dep. Variable:</th>          <td>claim</td>      <th>  R-squared:         </th> <td>   0.443</td> \n",
       "</tr>\n",
       "<tr>\n",
       "  <th>Model:</th>                   <td>OLS</td>       <th>  Adj. R-squared:    </th> <td>   0.436</td> \n",
       "</tr>\n",
       "<tr>\n",
       "  <th>Method:</th>             <td>Least Squares</td>  <th>  F-statistic:       </th> <td>   70.39</td> \n",
       "</tr>\n",
       "<tr>\n",
       "  <th>Date:</th>             <td>Wed, 01 Nov 2023</td> <th>  Prob (F-statistic):</th> <td>2.06e-105</td>\n",
       "</tr>\n",
       "<tr>\n",
       "  <th>Time:</th>                 <td>13:08:26</td>     <th>  Log-Likelihood:    </th> <td> -8793.7</td> \n",
       "</tr>\n",
       "<tr>\n",
       "  <th>No. Observations:</th>      <td>   897</td>      <th>  AIC:               </th> <td>1.761e+04</td>\n",
       "</tr>\n",
       "<tr>\n",
       "  <th>Df Residuals:</th>          <td>   886</td>      <th>  BIC:               </th> <td>1.766e+04</td>\n",
       "</tr>\n",
       "<tr>\n",
       "  <th>Df Model:</th>              <td>    10</td>      <th>                     </th>     <td> </td>    \n",
       "</tr>\n",
       "<tr>\n",
       "  <th>Covariance Type:</th>      <td>nonrobust</td>    <th>                     </th>     <td> </td>    \n",
       "</tr>\n",
       "</table>\n",
       "<table class=\"simpletable\">\n",
       "<tr>\n",
       "          <td></td>            <th>coef</th>     <th>std err</th>      <th>t</th>      <th>P>|t|</th>  <th>[0.025</th>    <th>0.975]</th>  \n",
       "</tr>\n",
       "<tr>\n",
       "  <th>const</th>            <td> 3508.7520</td> <td>  213.591</td> <td>   16.427</td> <td> 0.000</td> <td> 3089.549</td> <td> 3927.955</td>\n",
       "</tr>\n",
       "<tr>\n",
       "  <th>age</th>              <td> 1013.3142</td> <td>  606.826</td> <td>    1.670</td> <td> 0.095</td> <td> -177.670</td> <td> 2204.298</td>\n",
       "</tr>\n",
       "<tr>\n",
       "  <th>bmi</th>              <td> 3416.3943</td> <td>  798.426</td> <td>    4.279</td> <td> 0.000</td> <td> 1849.367</td> <td> 4983.422</td>\n",
       "</tr>\n",
       "<tr>\n",
       "  <th>bloodpressure</th>    <td> 4166.9612</td> <td>  593.701</td> <td>    7.019</td> <td> 0.000</td> <td> 3001.737</td> <td> 5332.185</td>\n",
       "</tr>\n",
       "<tr>\n",
       "  <th>children</th>         <td> 2657.8034</td> <td>  605.183</td> <td>    4.392</td> <td> 0.000</td> <td> 1470.044</td> <td> 3845.563</td>\n",
       "</tr>\n",
       "<tr>\n",
       "  <th>gender_female</th>    <td> 1864.9104</td> <td>  208.461</td> <td>    8.946</td> <td> 0.000</td> <td> 1455.776</td> <td> 2274.045</td>\n",
       "</tr>\n",
       "<tr>\n",
       "  <th>gender_male</th>      <td> 1643.8416</td> <td>  173.751</td> <td>    9.461</td> <td> 0.000</td> <td> 1302.830</td> <td> 1984.854</td>\n",
       "</tr>\n",
       "<tr>\n",
       "  <th>diabetic_No</th>      <td> 1788.7087</td> <td>  189.329</td> <td>    9.448</td> <td> 0.000</td> <td> 1417.123</td> <td> 2160.294</td>\n",
       "</tr>\n",
       "<tr>\n",
       "  <th>diabetic_Yes</th>     <td> 1720.0433</td> <td>  175.846</td> <td>    9.782</td> <td> 0.000</td> <td> 1374.920</td> <td> 2065.166</td>\n",
       "</tr>\n",
       "<tr>\n",
       "  <th>smoker_No</th>        <td>-4037.2493</td> <td>  255.591</td> <td>  -15.796</td> <td> 0.000</td> <td>-4538.884</td> <td>-3535.615</td>\n",
       "</tr>\n",
       "<tr>\n",
       "  <th>smoker_Yes</th>       <td> 7546.0013</td> <td>  301.654</td> <td>   25.015</td> <td> 0.000</td> <td> 6953.963</td> <td> 8138.040</td>\n",
       "</tr>\n",
       "<tr>\n",
       "  <th>region_northeast</th> <td> 2927.8535</td> <td>  305.889</td> <td>    9.572</td> <td> 0.000</td> <td> 2327.503</td> <td> 3528.204</td>\n",
       "</tr>\n",
       "<tr>\n",
       "  <th>region_northwest</th> <td>  124.0859</td> <td>  253.355</td> <td>    0.490</td> <td> 0.624</td> <td> -373.160</td> <td>  621.332</td>\n",
       "</tr>\n",
       "<tr>\n",
       "  <th>region_southeast</th> <td> -150.1384</td> <td>  251.252</td> <td>   -0.598</td> <td> 0.550</td> <td> -643.258</td> <td>  342.981</td>\n",
       "</tr>\n",
       "<tr>\n",
       "  <th>region_southwest</th> <td>  606.9509</td> <td>  272.304</td> <td>    2.229</td> <td> 0.026</td> <td>   72.515</td> <td> 1141.387</td>\n",
       "</tr>\n",
       "</table>\n",
       "<table class=\"simpletable\">\n",
       "<tr>\n",
       "  <th>Omnibus:</th>       <td>161.551</td> <th>  Durbin-Watson:     </th> <td>   1.956</td>\n",
       "</tr>\n",
       "<tr>\n",
       "  <th>Prob(Omnibus):</th> <td> 0.000</td>  <th>  Jarque-Bera (JB):  </th> <td> 295.874</td>\n",
       "</tr>\n",
       "<tr>\n",
       "  <th>Skew:</th>          <td> 1.079</td>  <th>  Prob(JB):          </th> <td>5.65e-65</td>\n",
       "</tr>\n",
       "<tr>\n",
       "  <th>Kurtosis:</th>      <td> 4.805</td>  <th>  Cond. No.          </th> <td>6.59e+16</td>\n",
       "</tr>\n",
       "</table><br/><br/>Notes:<br/>[1] Standard Errors assume that the covariance matrix of the errors is correctly specified.<br/>[2] The smallest eigenvalue is 7.78e-31. This might indicate that there are<br/>strong multicollinearity problems or that the design matrix is singular."
      ],
      "text/plain": [
       "<class 'statsmodels.iolib.summary.Summary'>\n",
       "\"\"\"\n",
       "                            OLS Regression Results                            \n",
       "==============================================================================\n",
       "Dep. Variable:                  claim   R-squared:                       0.443\n",
       "Model:                            OLS   Adj. R-squared:                  0.436\n",
       "Method:                 Least Squares   F-statistic:                     70.39\n",
       "Date:                Wed, 01 Nov 2023   Prob (F-statistic):          2.06e-105\n",
       "Time:                        13:08:26   Log-Likelihood:                -8793.7\n",
       "No. Observations:                 897   AIC:                         1.761e+04\n",
       "Df Residuals:                     886   BIC:                         1.766e+04\n",
       "Df Model:                          10                                         \n",
       "Covariance Type:            nonrobust                                         \n",
       "====================================================================================\n",
       "                       coef    std err          t      P>|t|      [0.025      0.975]\n",
       "------------------------------------------------------------------------------------\n",
       "const             3508.7520    213.591     16.427      0.000    3089.549    3927.955\n",
       "age               1013.3142    606.826      1.670      0.095    -177.670    2204.298\n",
       "bmi               3416.3943    798.426      4.279      0.000    1849.367    4983.422\n",
       "bloodpressure     4166.9612    593.701      7.019      0.000    3001.737    5332.185\n",
       "children          2657.8034    605.183      4.392      0.000    1470.044    3845.563\n",
       "gender_female     1864.9104    208.461      8.946      0.000    1455.776    2274.045\n",
       "gender_male       1643.8416    173.751      9.461      0.000    1302.830    1984.854\n",
       "diabetic_No       1788.7087    189.329      9.448      0.000    1417.123    2160.294\n",
       "diabetic_Yes      1720.0433    175.846      9.782      0.000    1374.920    2065.166\n",
       "smoker_No        -4037.2493    255.591    -15.796      0.000   -4538.884   -3535.615\n",
       "smoker_Yes        7546.0013    301.654     25.015      0.000    6953.963    8138.040\n",
       "region_northeast  2927.8535    305.889      9.572      0.000    2327.503    3528.204\n",
       "region_northwest   124.0859    253.355      0.490      0.624    -373.160     621.332\n",
       "region_southeast  -150.1384    251.252     -0.598      0.550    -643.258     342.981\n",
       "region_southwest   606.9509    272.304      2.229      0.026      72.515    1141.387\n",
       "==============================================================================\n",
       "Omnibus:                      161.551   Durbin-Watson:                   1.956\n",
       "Prob(Omnibus):                  0.000   Jarque-Bera (JB):              295.874\n",
       "Skew:                           1.079   Prob(JB):                     5.65e-65\n",
       "Kurtosis:                       4.805   Cond. No.                     6.59e+16\n",
       "==============================================================================\n",
       "\n",
       "Notes:\n",
       "[1] Standard Errors assume that the covariance matrix of the errors is correctly specified.\n",
       "[2] The smallest eigenvalue is 7.78e-31. This might indicate that there are\n",
       "strong multicollinearity problems or that the design matrix is singular.\n",
       "\"\"\""
      ]
     },
     "execution_count": 426,
     "metadata": {},
     "output_type": "execute_result"
    }
   ],
   "source": [
    "results.summary()\n"
   ]
  }
 ],
 "metadata": {
  "kernelspec": {
   "display_name": "Python 3 (ipykernel)",
   "language": "python",
   "name": "python3"
  },
  "language_info": {
   "codemirror_mode": {
    "name": "ipython",
    "version": 3
   },
   "file_extension": ".py",
   "mimetype": "text/x-python",
   "name": "python",
   "nbconvert_exporter": "python",
   "pygments_lexer": "ipython3",
   "version": "3.11.3"
  }
 },
 "nbformat": 4,
 "nbformat_minor": 5
}
